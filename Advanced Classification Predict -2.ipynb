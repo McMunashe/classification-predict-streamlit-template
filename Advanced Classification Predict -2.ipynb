{
 "cells": [
  {
   "cell_type": "markdown",
   "id": "c58cfe6d",
   "metadata": {},
   "source": [
    "# Advanced Classification Predict "
   ]
  },
  {
   "cell_type": "markdown",
   "id": "9d47aeb2",
   "metadata": {},
   "source": [
    "<a id=\"cont\"></a>\n",
    "\n",
    "## Table of Contents\n",
    "\n",
    "<a href=#one>1. Importing Packages</a>\n",
    "\n",
    "<a href=#two>2. Loading Data</a>\n",
    "\n",
    "<a href=#three>3. Exploratory Data Analysis (EDA)</a>\n",
    "\n",
    "<a href=#four>4. Data Engineering</a>\n",
    "\n",
    "<a href=#five>5. Modeling</a>\n",
    "\n",
    "<a href=#six>6. Model Performance</a>\n",
    "\n",
    "<a href=#seven>7. Model Explanations</a>"
   ]
  },
  {
   "cell_type": "markdown",
   "id": "618326e3",
   "metadata": {},
   "source": [
    " <a id=\"one\"></a>\n",
    "## 1. Importing Packages\n",
    "<a href=#cont>Back to Table of Contents</a>\n"
   ]
  },
  {
   "cell_type": "code",
   "execution_count": 66,
   "id": "a00f8aff",
   "metadata": {},
   "outputs": [
    {
     "name": "stderr",
     "output_type": "stream",
     "text": [
      "[nltk_data] Error loading wordnet: <urlopen error [SSL:\n",
      "[nltk_data]     CERTIFICATE_VERIFY_FAILED] certificate verify failed:\n",
      "[nltk_data]     self signed certificate in certificate chain\n",
      "[nltk_data]     (_ssl.c:1125)>\n",
      "[nltk_data] Error loading stopwords: <urlopen error [SSL:\n",
      "[nltk_data]     CERTIFICATE_VERIFY_FAILED] certificate verify failed:\n",
      "[nltk_data]     self signed certificate in certificate chain\n",
      "[nltk_data]     (_ssl.c:1125)>\n",
      "[nltk_data] Error loading omw-1.4: <urlopen error [SSL:\n",
      "[nltk_data]     CERTIFICATE_VERIFY_FAILED] certificate verify failed:\n",
      "[nltk_data]     self signed certificate in certificate chain\n",
      "[nltk_data]     (_ssl.c:1125)>\n"
     ]
    },
    {
     "data": {
      "text/plain": [
       "False"
      ]
     },
     "execution_count": 66,
     "metadata": {},
     "output_type": "execute_result"
    }
   ],
   "source": [
    "# Import libraries\n",
    "import numpy as np\n",
    "import pandas as pd\n",
    "\n",
    "import matplotlib.pyplot as plt\n",
    "%matplotlib inline\n",
    "import seaborn as sns\n",
    "import re\n",
    "import itertools\n",
    "\n",
    "from copy import deepcopy\n",
    "from tqdm import tqdm\n",
    "import time\n",
    "# tqdm.pandas()\n",
    "\n",
    "# set plot style\n",
    "sns.set()\n",
    "\n",
    "from wordcloud import WordCloud \n",
    "\n",
    "import nltk\n",
    "from nltk import TreebankWordTokenizer, SnowballStemmer\n",
    "from nltk.stem import WordNetLemmatizer\n",
    "from nltk.corpus import stopwords\n",
    "import string\n",
    "import urllib\n",
    "\n",
    "nltk.download('wordnet')\n",
    "nltk.download('stopwords')\n",
    "nltk.download('omw-1.4')\n"
   ]
  },
  {
   "cell_type": "code",
   "execution_count": 67,
   "id": "b26e8c92",
   "metadata": {},
   "outputs": [
    {
     "name": "stdout",
     "output_type": "stream",
     "text": [
      "Requirement already satisfied: tqdm in /Users/admin/opt/anaconda3/lib/python3.8/site-packages (4.59.0)\r\n"
     ]
    }
   ],
   "source": [
    "!pip install tqdm"
   ]
  },
  {
   "cell_type": "markdown",
   "id": "09338b17",
   "metadata": {},
   "source": [
    "<a id=\"two\"></a>\n",
    "## 2. Loading the Data\n",
    "<a class=\"anchor\" id=\"1.1\"></a>\n",
    "<a href=#cont>Back to Table of Contents</a>\n"
   ]
  },
  {
   "cell_type": "code",
   "execution_count": 68,
   "id": "b0ba8612",
   "metadata": {
    "scrolled": true
   },
   "outputs": [],
   "source": [
    "# Load files\n",
    "df_train= pd.read_csv('/Users/admin/Documents/Data Science/Explore/Advanced Classification/Advanced_Classification_Predict-student_data-2780/edsa-climate-change-belief-analysis-2022/train.csv')\n",
    "df_test= pd.read_csv('/Users/admin/Documents/Data Science/Explore/Advanced Classification/Advanced_Classification_Predict-student_data-2780/edsa-climate-change-belief-analysis-2022/test.csv')\n",
    "samplesubmission = pd.read_csv('/Users/admin/Documents/Data Science/Explore/Advanced Classification/Advanced_Classification_Predict-student_data-2780/edsa-climate-change-belief-analysis-2022/sample_submission.csv')\n",
    "\n",
    "\n"
   ]
  },
  {
   "cell_type": "code",
   "execution_count": 69,
   "id": "b31d1940",
   "metadata": {},
   "outputs": [],
   "source": [
    "train = deepcopy(df_train)\n",
    "test = deepcopy(df_test)"
   ]
  },
  {
   "cell_type": "code",
   "execution_count": 70,
   "id": "eda48aff",
   "metadata": {},
   "outputs": [
    {
     "data": {
      "text/html": [
       "<div>\n",
       "<style scoped>\n",
       "    .dataframe tbody tr th:only-of-type {\n",
       "        vertical-align: middle;\n",
       "    }\n",
       "\n",
       "    .dataframe tbody tr th {\n",
       "        vertical-align: top;\n",
       "    }\n",
       "\n",
       "    .dataframe thead th {\n",
       "        text-align: right;\n",
       "    }\n",
       "</style>\n",
       "<table border=\"1\" class=\"dataframe\">\n",
       "  <thead>\n",
       "    <tr style=\"text-align: right;\">\n",
       "      <th></th>\n",
       "      <th>sentiment</th>\n",
       "      <th>message</th>\n",
       "      <th>tweetid</th>\n",
       "    </tr>\n",
       "  </thead>\n",
       "  <tbody>\n",
       "    <tr>\n",
       "      <th>0</th>\n",
       "      <td>1</td>\n",
       "      <td>PolySciMajor EPA chief doesn't think carbon di...</td>\n",
       "      <td>625221</td>\n",
       "    </tr>\n",
       "    <tr>\n",
       "      <th>1</th>\n",
       "      <td>1</td>\n",
       "      <td>It's not like we lack evidence of anthropogeni...</td>\n",
       "      <td>126103</td>\n",
       "    </tr>\n",
       "    <tr>\n",
       "      <th>2</th>\n",
       "      <td>2</td>\n",
       "      <td>RT @RawStory: Researchers say we have three ye...</td>\n",
       "      <td>698562</td>\n",
       "    </tr>\n",
       "    <tr>\n",
       "      <th>3</th>\n",
       "      <td>1</td>\n",
       "      <td>#TodayinMaker# WIRED : 2016 was a pivotal year...</td>\n",
       "      <td>573736</td>\n",
       "    </tr>\n",
       "    <tr>\n",
       "      <th>4</th>\n",
       "      <td>1</td>\n",
       "      <td>RT @SoyNovioDeTodas: It's 2016, and a racist, ...</td>\n",
       "      <td>466954</td>\n",
       "    </tr>\n",
       "  </tbody>\n",
       "</table>\n",
       "</div>"
      ],
      "text/plain": [
       "   sentiment                                            message  tweetid\n",
       "0          1  PolySciMajor EPA chief doesn't think carbon di...   625221\n",
       "1          1  It's not like we lack evidence of anthropogeni...   126103\n",
       "2          2  RT @RawStory: Researchers say we have three ye...   698562\n",
       "3          1  #TodayinMaker# WIRED : 2016 was a pivotal year...   573736\n",
       "4          1  RT @SoyNovioDeTodas: It's 2016, and a racist, ...   466954"
      ]
     },
     "execution_count": 70,
     "metadata": {},
     "output_type": "execute_result"
    }
   ],
   "source": [
    "# Preview train dataset\n",
    "train.head()"
   ]
  },
  {
   "cell_type": "code",
   "execution_count": 71,
   "id": "04529dfe",
   "metadata": {
    "scrolled": true
   },
   "outputs": [
    {
     "data": {
      "text/html": [
       "<div>\n",
       "<style scoped>\n",
       "    .dataframe tbody tr th:only-of-type {\n",
       "        vertical-align: middle;\n",
       "    }\n",
       "\n",
       "    .dataframe tbody tr th {\n",
       "        vertical-align: top;\n",
       "    }\n",
       "\n",
       "    .dataframe thead th {\n",
       "        text-align: right;\n",
       "    }\n",
       "</style>\n",
       "<table border=\"1\" class=\"dataframe\">\n",
       "  <thead>\n",
       "    <tr style=\"text-align: right;\">\n",
       "      <th></th>\n",
       "      <th>message</th>\n",
       "      <th>tweetid</th>\n",
       "    </tr>\n",
       "  </thead>\n",
       "  <tbody>\n",
       "    <tr>\n",
       "      <th>0</th>\n",
       "      <td>Europe will now be looking to China to make su...</td>\n",
       "      <td>169760</td>\n",
       "    </tr>\n",
       "    <tr>\n",
       "      <th>1</th>\n",
       "      <td>Combine this with the polling of staffers re c...</td>\n",
       "      <td>35326</td>\n",
       "    </tr>\n",
       "    <tr>\n",
       "      <th>2</th>\n",
       "      <td>The scary, unimpeachable evidence that climate...</td>\n",
       "      <td>224985</td>\n",
       "    </tr>\n",
       "    <tr>\n",
       "      <th>3</th>\n",
       "      <td>@Karoli @morgfair @OsborneInk @dailykos \\nPuti...</td>\n",
       "      <td>476263</td>\n",
       "    </tr>\n",
       "    <tr>\n",
       "      <th>4</th>\n",
       "      <td>RT @FakeWillMoore: 'Female orgasms cause globa...</td>\n",
       "      <td>872928</td>\n",
       "    </tr>\n",
       "  </tbody>\n",
       "</table>\n",
       "</div>"
      ],
      "text/plain": [
       "                                             message  tweetid\n",
       "0  Europe will now be looking to China to make su...   169760\n",
       "1  Combine this with the polling of staffers re c...    35326\n",
       "2  The scary, unimpeachable evidence that climate...   224985\n",
       "3  @Karoli @morgfair @OsborneInk @dailykos \\nPuti...   476263\n",
       "4  RT @FakeWillMoore: 'Female orgasms cause globa...   872928"
      ]
     },
     "execution_count": 71,
     "metadata": {},
     "output_type": "execute_result"
    }
   ],
   "source": [
    "# Preview test dataset\n",
    "test.head()"
   ]
  },
  {
   "cell_type": "code",
   "execution_count": 72,
   "id": "f0676cee",
   "metadata": {},
   "outputs": [
    {
     "data": {
      "text/html": [
       "<div>\n",
       "<style scoped>\n",
       "    .dataframe tbody tr th:only-of-type {\n",
       "        vertical-align: middle;\n",
       "    }\n",
       "\n",
       "    .dataframe tbody tr th {\n",
       "        vertical-align: top;\n",
       "    }\n",
       "\n",
       "    .dataframe thead th {\n",
       "        text-align: right;\n",
       "    }\n",
       "</style>\n",
       "<table border=\"1\" class=\"dataframe\">\n",
       "  <thead>\n",
       "    <tr style=\"text-align: right;\">\n",
       "      <th></th>\n",
       "      <th>tweetid</th>\n",
       "      <th>sentiment</th>\n",
       "    </tr>\n",
       "  </thead>\n",
       "  <tbody>\n",
       "    <tr>\n",
       "      <th>0</th>\n",
       "      <td>169760</td>\n",
       "      <td>1</td>\n",
       "    </tr>\n",
       "    <tr>\n",
       "      <th>1</th>\n",
       "      <td>35326</td>\n",
       "      <td>1</td>\n",
       "    </tr>\n",
       "    <tr>\n",
       "      <th>2</th>\n",
       "      <td>224985</td>\n",
       "      <td>1</td>\n",
       "    </tr>\n",
       "    <tr>\n",
       "      <th>3</th>\n",
       "      <td>476263</td>\n",
       "      <td>1</td>\n",
       "    </tr>\n",
       "    <tr>\n",
       "      <th>4</th>\n",
       "      <td>872928</td>\n",
       "      <td>1</td>\n",
       "    </tr>\n",
       "  </tbody>\n",
       "</table>\n",
       "</div>"
      ],
      "text/plain": [
       "   tweetid  sentiment\n",
       "0   169760          1\n",
       "1    35326          1\n",
       "2   224985          1\n",
       "3   476263          1\n",
       "4   872928          1"
      ]
     },
     "execution_count": 72,
     "metadata": {},
     "output_type": "execute_result"
    }
   ],
   "source": [
    "# Preview sample submission file\n",
    "samplesubmission.head()"
   ]
  },
  {
   "cell_type": "code",
   "execution_count": 73,
   "id": "f61feded",
   "metadata": {},
   "outputs": [],
   "source": [
    "##nltk.download()"
   ]
  },
  {
   "cell_type": "markdown",
   "id": "632311f8",
   "metadata": {},
   "source": [
    "<a id=\"three\"></a>\n",
    "## 3. Exploratory Data Analysis (EDA)\n",
    "<a class=\"anchor\" id=\"1.1\"></a>\n",
    "<a href=#cont>Back to Table of Contents</a>"
   ]
  },
  {
   "cell_type": "code",
   "execution_count": 74,
   "id": "08a9fa1f",
   "metadata": {},
   "outputs": [
    {
     "data": {
      "text/plain": [
       "((15819, 3), (10546, 2))"
      ]
     },
     "execution_count": 74,
     "metadata": {},
     "output_type": "execute_result"
    }
   ],
   "source": [
    "# Check size and shape of datasets\n",
    "train.shape, test.shape"
   ]
  },
  {
   "cell_type": "markdown",
   "id": "dbb487d9",
   "metadata": {},
   "source": [
    "The train dataset has 15819 rows (tweets) with 3 columns while the test dataset contains 10546 rows and 2 columns."
   ]
  },
  {
   "cell_type": "code",
   "execution_count": 75,
   "id": "e308b038",
   "metadata": {},
   "outputs": [
    {
     "data": {
      "text/plain": [
       "[1, 2, 0, -1]"
      ]
     },
     "execution_count": 75,
     "metadata": {},
     "output_type": "execute_result"
    }
   ],
   "source": [
    "# The total number of classes in our dataset (train)\n",
    "variable= list(train['sentiment'].unique())\n",
    "variable"
   ]
  },
  {
   "cell_type": "code",
   "execution_count": 76,
   "id": "4273f405",
   "metadata": {},
   "outputs": [
    {
     "data": {
      "text/html": [
       "<div>\n",
       "<style scoped>\n",
       "    .dataframe tbody tr th:only-of-type {\n",
       "        vertical-align: middle;\n",
       "    }\n",
       "\n",
       "    .dataframe tbody tr th {\n",
       "        vertical-align: top;\n",
       "    }\n",
       "\n",
       "    .dataframe thead th {\n",
       "        text-align: right;\n",
       "    }\n",
       "</style>\n",
       "<table border=\"1\" class=\"dataframe\">\n",
       "  <thead>\n",
       "    <tr style=\"text-align: right;\">\n",
       "      <th></th>\n",
       "      <th>sentiment</th>\n",
       "      <th>message</th>\n",
       "      <th>tweetid</th>\n",
       "      <th>Analysis</th>\n",
       "    </tr>\n",
       "  </thead>\n",
       "  <tbody>\n",
       "    <tr>\n",
       "      <th>0</th>\n",
       "      <td>1</td>\n",
       "      <td>PolySciMajor EPA chief doesn't think carbon di...</td>\n",
       "      <td>625221</td>\n",
       "      <td>Pro</td>\n",
       "    </tr>\n",
       "    <tr>\n",
       "      <th>1</th>\n",
       "      <td>1</td>\n",
       "      <td>It's not like we lack evidence of anthropogeni...</td>\n",
       "      <td>126103</td>\n",
       "      <td>Pro</td>\n",
       "    </tr>\n",
       "    <tr>\n",
       "      <th>2</th>\n",
       "      <td>2</td>\n",
       "      <td>RT @RawStory: Researchers say we have three ye...</td>\n",
       "      <td>698562</td>\n",
       "      <td>News</td>\n",
       "    </tr>\n",
       "    <tr>\n",
       "      <th>3</th>\n",
       "      <td>1</td>\n",
       "      <td>#TodayinMaker# WIRED : 2016 was a pivotal year...</td>\n",
       "      <td>573736</td>\n",
       "      <td>Pro</td>\n",
       "    </tr>\n",
       "    <tr>\n",
       "      <th>4</th>\n",
       "      <td>1</td>\n",
       "      <td>RT @SoyNovioDeTodas: It's 2016, and a racist, ...</td>\n",
       "      <td>466954</td>\n",
       "      <td>Pro</td>\n",
       "    </tr>\n",
       "  </tbody>\n",
       "</table>\n",
       "</div>"
      ],
      "text/plain": [
       "   sentiment                                            message  tweetid  \\\n",
       "0          1  PolySciMajor EPA chief doesn't think carbon di...   625221   \n",
       "1          1  It's not like we lack evidence of anthropogeni...   126103   \n",
       "2          2  RT @RawStory: Researchers say we have three ye...   698562   \n",
       "3          1  #TodayinMaker# WIRED : 2016 was a pivotal year...   573736   \n",
       "4          1  RT @SoyNovioDeTodas: It's 2016, and a racist, ...   466954   \n",
       "\n",
       "  Analysis  \n",
       "0      Pro  \n",
       "1      Pro  \n",
       "2     News  \n",
       "3      Pro  \n",
       "4      Pro  "
      ]
     },
     "execution_count": 76,
     "metadata": {},
     "output_type": "execute_result"
    }
   ],
   "source": [
    "#Replacing all numeric values with the appropriate labels, given by the dataset\n",
    "#Function to lable our Sentiments\n",
    "def sentimentLabel(score):\n",
    "    \"\"\"\n",
    "    Classifies tweets as News, Pro, Neutral, or Anti based on their sentiment number\n",
    "    \n",
    "    Parameters:\n",
    "    score: an integer (int64)\n",
    "    \n",
    "    returns:\n",
    "    The word corresponding to the integer\n",
    "    \"\"\"\n",
    "    if score == 2:\n",
    "        return 'News'\n",
    "    elif score == 1:\n",
    "        return 'Pro'\n",
    "    elif score == 0:\n",
    "        return 'Neutral'\n",
    "    else:\n",
    "        return 'Anti'\n",
    "train['Analysis'] = train['sentiment'].apply(sentimentLabel) # Adding an Analysis column to the df dataframe\n",
    "train.head()"
   ]
  },
  {
   "cell_type": "code",
   "execution_count": 77,
   "id": "64f38f68",
   "metadata": {},
   "outputs": [
    {
     "data": {
      "text/html": [
       "<div>\n",
       "<style scoped>\n",
       "    .dataframe tbody tr th:only-of-type {\n",
       "        vertical-align: middle;\n",
       "    }\n",
       "\n",
       "    .dataframe tbody tr th {\n",
       "        vertical-align: top;\n",
       "    }\n",
       "\n",
       "    .dataframe thead th {\n",
       "        text-align: right;\n",
       "    }\n",
       "</style>\n",
       "<table border=\"1\" class=\"dataframe\">\n",
       "  <thead>\n",
       "    <tr style=\"text-align: right;\">\n",
       "      <th></th>\n",
       "      <th>Raw Number</th>\n",
       "      <th>Percentage</th>\n",
       "    </tr>\n",
       "  </thead>\n",
       "  <tbody>\n",
       "    <tr>\n",
       "      <th>Pro</th>\n",
       "      <td>8530</td>\n",
       "      <td>53.922498</td>\n",
       "    </tr>\n",
       "    <tr>\n",
       "      <th>News</th>\n",
       "      <td>3640</td>\n",
       "      <td>23.010304</td>\n",
       "    </tr>\n",
       "    <tr>\n",
       "      <th>Neutral</th>\n",
       "      <td>2353</td>\n",
       "      <td>14.874518</td>\n",
       "    </tr>\n",
       "    <tr>\n",
       "      <th>Anti</th>\n",
       "      <td>1296</td>\n",
       "      <td>8.192680</td>\n",
       "    </tr>\n",
       "  </tbody>\n",
       "</table>\n",
       "</div>"
      ],
      "text/plain": [
       "         Raw Number  Percentage\n",
       "Pro            8530   53.922498\n",
       "News           3640   23.010304\n",
       "Neutral        2353   14.874518\n",
       "Anti           1296    8.192680"
      ]
     },
     "metadata": {},
     "output_type": "display_data"
    }
   ],
   "source": [
    "value_counts = train[\"Analysis\"].value_counts()\n",
    "value_counts.name = \"Raw Number\"\n",
    "\n",
    "value_normd = train[\"Analysis\"].value_counts(normalize=True)*100\n",
    "value_normd.name = \"Percentage\"\n",
    "\n",
    "display(pd.concat([value_counts, value_normd], axis=1))"
   ]
  },
  {
   "cell_type": "markdown",
   "id": "442b10d9",
   "metadata": {},
   "source": [
    "fig, axes = plt.subplots(1, 2, figsize=(20, 10), dpi=100)\n",
    "\n",
    "sns.countplot(train[\"Analysis\"], ax=axes[0])\n",
    "labels = list(train[\"Analysis\"].values())\n",
    "\n",
    "axes[1].pie(train[\"sentiment\"].value_counts(),\n",
    "            labels=labels,\n",
    "            autopct=\"%1.0f%%\",\n",
    "            startangle=90,\n",
    "            explode=tuple([0.1] * len(labels)))\n",
    "\n",
    "fig.suptitle(\"Distribution of Tweets\", fontsize=20)\n",
    "plt.show()"
   ]
  },
  {
   "cell_type": "code",
   "execution_count": 78,
   "id": "a3bcf3a6",
   "metadata": {},
   "outputs": [
    {
     "data": {
      "image/png": "[encoded data removed]",
      "text/plain": [
       "<Figure size 432x288 with 1 Axes>"
      ]
     },
     "metadata": {},
     "output_type": "display_data"
    }
   ],
   "source": [
    "counts = train[\"sentiment\"].value_counts()\n",
    "plt.bar(range(len(counts)), counts)\n",
    "plt.xticks([0, 1, 2, 3], ['Pro', 'News', 'Neutral', 'Anti'])\n",
    "\n",
    "plt.ylabel(\"Total per class\")\n",
    "plt.xlabel(\"Sentiment Classes\")\n",
    "plt.show()"
   ]
  },
  {
   "cell_type": "code",
   "execution_count": 79,
   "id": "426240f5",
   "metadata": {},
   "outputs": [
    {
     "name": "stderr",
     "output_type": "stream",
     "text": [
      "100%|██████████| 4/4 [00:00<00:00, 77.17it/s]\n"
     ]
    },
    {
     "data": {
      "text/html": [
       "<div>\n",
       "<style scoped>\n",
       "    .dataframe tbody tr th:only-of-type {\n",
       "        vertical-align: middle;\n",
       "    }\n",
       "\n",
       "    .dataframe tbody tr th {\n",
       "        vertical-align: top;\n",
       "    }\n",
       "\n",
       "    .dataframe thead tr th {\n",
       "        text-align: left;\n",
       "    }\n",
       "</style>\n",
       "<table border=\"1\" class=\"dataframe\">\n",
       "  <thead>\n",
       "    <tr>\n",
       "      <th></th>\n",
       "      <th colspan=\"2\" halign=\"left\">Anti</th>\n",
       "      <th colspan=\"2\" halign=\"left\">Neutral</th>\n",
       "      <th colspan=\"2\" halign=\"left\">News</th>\n",
       "      <th colspan=\"2\" halign=\"left\">Pro</th>\n",
       "    </tr>\n",
       "    <tr>\n",
       "      <th></th>\n",
       "      <th>hashtags</th>\n",
       "      <th>counts</th>\n",
       "      <th>hashtags</th>\n",
       "      <th>counts</th>\n",
       "      <th>hashtags</th>\n",
       "      <th>counts</th>\n",
       "      <th>hashtags</th>\n",
       "      <th>counts</th>\n",
       "    </tr>\n",
       "  </thead>\n",
       "  <tbody>\n",
       "    <tr>\n",
       "      <th>0</th>\n",
       "      <td>maga</td>\n",
       "      <td>14</td>\n",
       "      <td>climate</td>\n",
       "      <td>19</td>\n",
       "      <td>climate</td>\n",
       "      <td>135</td>\n",
       "      <td>climate</td>\n",
       "      <td>188</td>\n",
       "    </tr>\n",
       "    <tr>\n",
       "      <th>1</th>\n",
       "      <td>climate</td>\n",
       "      <td>10</td>\n",
       "      <td>climatechange</td>\n",
       "      <td>15</td>\n",
       "      <td>climatechange</td>\n",
       "      <td>65</td>\n",
       "      <td>beforetheflood</td>\n",
       "      <td>148</td>\n",
       "    </tr>\n",
       "    <tr>\n",
       "      <th>2</th>\n",
       "      <td>trump</td>\n",
       "      <td>8</td>\n",
       "      <td>trump</td>\n",
       "      <td>12</td>\n",
       "      <td>environment</td>\n",
       "      <td>47</td>\n",
       "      <td>climatechange</td>\n",
       "      <td>120</td>\n",
       "    </tr>\n",
       "    <tr>\n",
       "      <th>3</th>\n",
       "      <td>climatechange</td>\n",
       "      <td>8</td>\n",
       "      <td>beforetheflood</td>\n",
       "      <td>5</td>\n",
       "      <td>news</td>\n",
       "      <td>32</td>\n",
       "      <td>imvotingbecause</td>\n",
       "      <td>62</td>\n",
       "    </tr>\n",
       "    <tr>\n",
       "      <th>4</th>\n",
       "      <td>globalwarming</td>\n",
       "      <td>5</td>\n",
       "      <td>qanda</td>\n",
       "      <td>4</td>\n",
       "      <td>trump</td>\n",
       "      <td>25</td>\n",
       "      <td>cop22</td>\n",
       "      <td>59</td>\n",
       "    </tr>\n",
       "    <tr>\n",
       "      <th>5</th>\n",
       "      <td>fakenews</td>\n",
       "      <td>4</td>\n",
       "      <td>amreading</td>\n",
       "      <td>4</td>\n",
       "      <td>science</td>\n",
       "      <td>18</td>\n",
       "      <td>parisagreement</td>\n",
       "      <td>52</td>\n",
       "    </tr>\n",
       "    <tr>\n",
       "      <th>6</th>\n",
       "      <td>opchemtrails</td>\n",
       "      <td>4</td>\n",
       "      <td>cop22</td>\n",
       "      <td>4</td>\n",
       "      <td>p2</td>\n",
       "      <td>14</td>\n",
       "      <td>actonclimate</td>\n",
       "      <td>49</td>\n",
       "    </tr>\n",
       "    <tr>\n",
       "      <th>7</th>\n",
       "      <td>tcot</td>\n",
       "      <td>4</td>\n",
       "      <td>globalwarming</td>\n",
       "      <td>3</td>\n",
       "      <td>greatbarrierreef</td>\n",
       "      <td>14</td>\n",
       "      <td>trump</td>\n",
       "      <td>43</td>\n",
       "    </tr>\n",
       "    <tr>\n",
       "      <th>8</th>\n",
       "      <td>parisagreement</td>\n",
       "      <td>4</td>\n",
       "      <td>parisaccord</td>\n",
       "      <td>3</td>\n",
       "      <td>cop22</td>\n",
       "      <td>14</td>\n",
       "      <td>ã</td>\n",
       "      <td>37</td>\n",
       "    </tr>\n",
       "    <tr>\n",
       "      <th>9</th>\n",
       "      <td>qanda</td>\n",
       "      <td>3</td>\n",
       "      <td>climatecounts</td>\n",
       "      <td>3</td>\n",
       "      <td>parisagreement</td>\n",
       "      <td>9</td>\n",
       "      <td>globalwarming</td>\n",
       "      <td>35</td>\n",
       "    </tr>\n",
       "  </tbody>\n",
       "</table>\n",
       "</div>"
      ],
      "text/plain": [
       "             Anti                Neutral                     News         \\\n",
       "         hashtags counts        hashtags counts          hashtags counts   \n",
       "0            maga     14         climate     19           climate    135   \n",
       "1         climate     10   climatechange     15     climatechange     65   \n",
       "2           trump      8           trump     12       environment     47   \n",
       "3   climatechange      8  beforetheflood      5              news     32   \n",
       "4   globalwarming      5           qanda      4             trump     25   \n",
       "5        fakenews      4       amreading      4           science     18   \n",
       "6    opchemtrails      4           cop22      4                p2     14   \n",
       "7            tcot      4   globalwarming      3  greatbarrierreef     14   \n",
       "8  parisagreement      4     parisaccord      3             cop22     14   \n",
       "9           qanda      3   climatecounts      3    parisagreement      9   \n",
       "\n",
       "               Pro         \n",
       "          hashtags counts  \n",
       "0          climate    188  \n",
       "1   beforetheflood    148  \n",
       "2    climatechange    120  \n",
       "3  imvotingbecause     62  \n",
       "4            cop22     59  \n",
       "5   parisagreement     52  \n",
       "6     actonclimate     49  \n",
       "7            trump     43  \n",
       "8                ã     37  \n",
       "9    globalwarming     35  "
      ]
     },
     "metadata": {},
     "output_type": "display_data"
    }
   ],
   "source": [
    "#Number of hashtags for each of the class of sentiments\n",
    "\n",
    "top15 = {}\n",
    "\n",
    "by_sentiment = train.groupby(\"Analysis\")\n",
    "for sentiment, group in tqdm(by_sentiment):\n",
    "    hashtags = group[\"message\"].apply(lambda tweet: re.findall(r\"#(\\w+)\", tweet))\n",
    "    hashtags = itertools.chain(*hashtags)\n",
    "    hashtags = [ht.lower() for ht in hashtags]\n",
    "    \n",
    "    frequency = nltk.FreqDist(hashtags)\n",
    "    \n",
    "    df_hashtags = pd.DataFrame({\n",
    "        \"hashtags\": list(frequency.keys()),\n",
    "        \"counts\": list(frequency.values()),\n",
    "    })\n",
    "    top15_htags = df_hashtags.nlargest(15, columns=[\"counts\"])\n",
    "    \n",
    "    top15[sentiment] = top15_htags.reset_index(drop=True)\n",
    "\n",
    "display(pd.concat(top15, axis=1).head(n=10))"
   ]
  },
  {
   "cell_type": "code",
   "execution_count": 80,
   "id": "b8405fec",
   "metadata": {},
   "outputs": [
    {
     "data": {
      "image/png": "[encoded data removed]",
      "text/plain": [
       "<Figure size 2016x1440 with 4 Axes>"
      ]
     },
     "metadata": {},
     "output_type": "display_data"
    }
   ],
   "source": [
    "fig, axes = plt.subplots(2, 2, figsize=(28, 20))\n",
    "counter = 0\n",
    "\n",
    "for sentiment, top in top15.items():\n",
    "    sns.barplot(data=top, y=\"hashtags\", x=\"counts\", palette=\"Blues_d\", ax=axes[counter // 2, counter % 2])\n",
    "    axes[counter // 2, counter % 2].set_title(f\"Most frequent Hashtags by {sentiment} (Visually)\", fontsize=25)\n",
    "    counter += 1\n",
    "plt.show()"
   ]
  },
  {
   "cell_type": "code",
   "execution_count": 81,
   "id": "c43b50e4",
   "metadata": {},
   "outputs": [
    {
     "data": {
      "text/plain": [
       "(False, False)"
      ]
     },
     "execution_count": 81,
     "metadata": {},
     "output_type": "execute_result"
    }
   ],
   "source": [
    "# Check for missing values\n",
    "train.isnull().sum().any(), test.isnull().sum().any() "
   ]
  },
  {
   "cell_type": "markdown",
   "id": "c7e59b49",
   "metadata": {},
   "source": [
    "The train and test data have no missing values."
   ]
  },
  {
   "cell_type": "code",
   "execution_count": 82,
   "id": "a802ed67",
   "metadata": {},
   "outputs": [
    {
     "data": {
      "text/plain": [
       "(False, False)"
      ]
     },
     "execution_count": 82,
     "metadata": {},
     "output_type": "execute_result"
    }
   ],
   "source": [
    "# Check for duplicates\n",
    "train.duplicated().any(), test.duplicated().any()"
   ]
  },
  {
   "cell_type": "markdown",
   "id": "959b330c",
   "metadata": {},
   "source": [
    "The train and test data have no duplicated values "
   ]
  },
  {
   "cell_type": "code",
   "execution_count": 83,
   "id": "f3b277a2",
   "metadata": {},
   "outputs": [
    {
     "name": "stdout",
     "output_type": "stream",
     "text": [
      "<class 'pandas.core.frame.DataFrame'>\n",
      "RangeIndex: 15819 entries, 0 to 15818\n",
      "Data columns (total 4 columns):\n",
      " #   Column     Non-Null Count  Dtype \n",
      "---  ------     --------------  ----- \n",
      " 0   sentiment  15819 non-null  int64 \n",
      " 1   message    15819 non-null  object\n",
      " 2   tweetid    15819 non-null  int64 \n",
      " 3   Analysis   15819 non-null  object\n",
      "dtypes: int64(2), object(2)\n",
      "memory usage: 494.5+ KB\n",
      "<class 'pandas.core.frame.DataFrame'>\n",
      "RangeIndex: 10546 entries, 0 to 10545\n",
      "Data columns (total 2 columns):\n",
      " #   Column   Non-Null Count  Dtype \n",
      "---  ------   --------------  ----- \n",
      " 0   message  10546 non-null  object\n",
      " 1   tweetid  10546 non-null  int64 \n",
      "dtypes: int64(1), object(1)\n",
      "memory usage: 164.9+ KB\n"
     ]
    },
    {
     "data": {
      "text/plain": [
       "(None, None)"
      ]
     },
     "execution_count": 83,
     "metadata": {},
     "output_type": "execute_result"
    }
   ],
   "source": [
    "train.info(), test.info()"
   ]
  },
  {
   "cell_type": "markdown",
   "id": "fadfe5c8",
   "metadata": {},
   "source": [
    "<a id=\"four\"></a>\n",
    "## 4. Data Engineering\n",
    "<a class=\"anchor\" id=\"1.1\"></a>\n",
    "<a href=#cont>Back to Table of Contents</a>"
   ]
  },
  {
   "cell_type": "markdown",
   "id": "e951d219",
   "metadata": {},
   "source": [
    "# Text Cleaning\n",
    "\n",
    "Creating array of sentiments and messages"
   ]
  },
  {
   "cell_type": "markdown",
   "id": "1a91cafa",
   "metadata": {},
   "source": [
    "# Noise Removal\n",
    "\n",
    "- Covert text to lowercase\n",
    "- Remove emotions, symbols, RT, urls & hyperlinks\n",
    "- Remove punctuations and excess white-space"
   ]
  },
  {
   "cell_type": "code",
   "execution_count": 84,
   "id": "ad6c741c",
   "metadata": {},
   "outputs": [],
   "source": [
    "def cleaner(tweet):\n",
    "    tweet = tweet.lower()\n",
    "    \n",
    "    tweet = re.sub(r'@[A-Za-z0-9]+', '', tweet) #Remove @mentions\n",
    "    tweet = re.sub(r':[\\s]+', '', tweet)\n",
    "    tweet = re.sub(r'#', '', tweet) #Remove # symbol\n",
    "    tweet = re.sub(r'rt[\\s]+', '', tweet) #Remove RT\n",
    "    tweet = re.sub(r'https?:\\/\\/\\S+', '', tweet) #Remove hyper-links\n",
    "    \n",
    "    # strip punctuation and special characters\n",
    "    tweet = re.sub(r\"[,.;':@#?!\\&/$]+\\ *\", \" \", tweet)\n",
    "    # strip excess white-space\n",
    "    tweet = re.sub(r\"\\s\\s+\", \" \", tweet)\n",
    "    \n",
    "    return tweet.lstrip(\" \")"
   ]
  },
  {
   "cell_type": "code",
   "execution_count": 85,
   "id": "ea27881b",
   "metadata": {},
   "outputs": [
    {
     "data": {
      "text/html": [
       "<div>\n",
       "<style scoped>\n",
       "    .dataframe tbody tr th:only-of-type {\n",
       "        vertical-align: middle;\n",
       "    }\n",
       "\n",
       "    .dataframe tbody tr th {\n",
       "        vertical-align: top;\n",
       "    }\n",
       "\n",
       "    .dataframe thead th {\n",
       "        text-align: right;\n",
       "    }\n",
       "</style>\n",
       "<table border=\"1\" class=\"dataframe\">\n",
       "  <thead>\n",
       "    <tr style=\"text-align: right;\">\n",
       "      <th></th>\n",
       "      <th>sentiment</th>\n",
       "      <th>message</th>\n",
       "      <th>tweetid</th>\n",
       "      <th>Analysis</th>\n",
       "    </tr>\n",
       "  </thead>\n",
       "  <tbody>\n",
       "    <tr>\n",
       "      <th>0</th>\n",
       "      <td>1</td>\n",
       "      <td>polyscimajor epa chief doesn t think carbon di...</td>\n",
       "      <td>625221</td>\n",
       "      <td>Pro</td>\n",
       "    </tr>\n",
       "    <tr>\n",
       "      <th>1</th>\n",
       "      <td>1</td>\n",
       "      <td>it s not like we lack evidence of anthropogeni...</td>\n",
       "      <td>126103</td>\n",
       "      <td>Pro</td>\n",
       "    </tr>\n",
       "    <tr>\n",
       "      <th>2</th>\n",
       "      <td>2</td>\n",
       "      <td>researchers say we have three years to act on ...</td>\n",
       "      <td>698562</td>\n",
       "      <td>News</td>\n",
       "    </tr>\n",
       "    <tr>\n",
       "      <th>3</th>\n",
       "      <td>1</td>\n",
       "      <td>todayinmaker wired 2016 was a pivotal year in ...</td>\n",
       "      <td>573736</td>\n",
       "      <td>Pro</td>\n",
       "    </tr>\n",
       "    <tr>\n",
       "      <th>4</th>\n",
       "      <td>1</td>\n",
       "      <td>it s 2016 and a racist sexist climate change d...</td>\n",
       "      <td>466954</td>\n",
       "      <td>Pro</td>\n",
       "    </tr>\n",
       "  </tbody>\n",
       "</table>\n",
       "</div>"
      ],
      "text/plain": [
       "   sentiment                                            message  tweetid  \\\n",
       "0          1  polyscimajor epa chief doesn t think carbon di...   625221   \n",
       "1          1  it s not like we lack evidence of anthropogeni...   126103   \n",
       "2          2  researchers say we have three years to act on ...   698562   \n",
       "3          1  todayinmaker wired 2016 was a pivotal year in ...   573736   \n",
       "4          1  it s 2016 and a racist sexist climate change d...   466954   \n",
       "\n",
       "  Analysis  \n",
       "0      Pro  \n",
       "1      Pro  \n",
       "2     News  \n",
       "3      Pro  \n",
       "4      Pro  "
      ]
     },
     "execution_count": 85,
     "metadata": {},
     "output_type": "execute_result"
    }
   ],
   "source": [
    "train[\"message\"] = train[\"message\"].apply(cleaner)\n",
    "test[\"message\"] = train[\"message\"].apply(cleaner)\n",
    "train.head()"
   ]
  },
  {
   "cell_type": "code",
   "execution_count": 86,
   "id": "a107d150",
   "metadata": {},
   "outputs": [
    {
     "data": {
      "text/html": [
       "<div>\n",
       "<style scoped>\n",
       "    .dataframe tbody tr th:only-of-type {\n",
       "        vertical-align: middle;\n",
       "    }\n",
       "\n",
       "    .dataframe tbody tr th {\n",
       "        vertical-align: top;\n",
       "    }\n",
       "\n",
       "    .dataframe thead th {\n",
       "        text-align: right;\n",
       "    }\n",
       "</style>\n",
       "<table border=\"1\" class=\"dataframe\">\n",
       "  <thead>\n",
       "    <tr style=\"text-align: right;\">\n",
       "      <th></th>\n",
       "      <th>message</th>\n",
       "      <th>tweetid</th>\n",
       "    </tr>\n",
       "  </thead>\n",
       "  <tbody>\n",
       "    <tr>\n",
       "      <th>0</th>\n",
       "      <td>polyscimajor epa chief doesn t think carbon di...</td>\n",
       "      <td>169760</td>\n",
       "    </tr>\n",
       "    <tr>\n",
       "      <th>1</th>\n",
       "      <td>it s not like we lack evidence of anthropogeni...</td>\n",
       "      <td>35326</td>\n",
       "    </tr>\n",
       "    <tr>\n",
       "      <th>2</th>\n",
       "      <td>researchers say we have three years to act on ...</td>\n",
       "      <td>224985</td>\n",
       "    </tr>\n",
       "    <tr>\n",
       "      <th>3</th>\n",
       "      <td>todayinmaker wired 2016 was a pivotal year in ...</td>\n",
       "      <td>476263</td>\n",
       "    </tr>\n",
       "    <tr>\n",
       "      <th>4</th>\n",
       "      <td>it s 2016 and a racist sexist climate change d...</td>\n",
       "      <td>872928</td>\n",
       "    </tr>\n",
       "  </tbody>\n",
       "</table>\n",
       "</div>"
      ],
      "text/plain": [
       "                                             message  tweetid\n",
       "0  polyscimajor epa chief doesn t think carbon di...   169760\n",
       "1  it s not like we lack evidence of anthropogeni...    35326\n",
       "2  researchers say we have three years to act on ...   224985\n",
       "3  todayinmaker wired 2016 was a pivotal year in ...   476263\n",
       "4  it s 2016 and a racist sexist climate change d...   872928"
      ]
     },
     "execution_count": 86,
     "metadata": {},
     "output_type": "execute_result"
    }
   ],
   "source": [
    "test.head()"
   ]
  },
  {
   "cell_type": "markdown",
   "id": "bd75a4fd",
   "metadata": {},
   "source": [
    "# Tokenization"
   ]
  },
  {
   "cell_type": "code",
   "execution_count": 87,
   "id": "779d3437",
   "metadata": {},
   "outputs": [
    {
     "data": {
      "text/plain": [
       "0        [polyscimajor, epa, chief, doesn, t, think, ca...\n",
       "1        [it, s, not, like, we, lack, evidence, of, ant...\n",
       "2        [researchers, say, we, have, three, years, to,...\n",
       "3        [todayinmaker, wired, 2016, was, a, pivotal, y...\n",
       "4        [it, s, 2016, and, a, racist, sexist, climate,...\n",
       "                               ...                        \n",
       "15814    [they, took, down, the, material, on, global, ...\n",
       "15815    [how, climate, change, could, be, breaking, up...\n",
       "15816    [notivenrtnytimesworld, what, does, trump, act...\n",
       "15817    [hey, liberals, the, climate, change, crap, is...\n",
       "15818    [_cannon, s, climate, change, equation, in, 4,...\n",
       "Name: tokens, Length: 15819, dtype: object"
      ]
     },
     "execution_count": 87,
     "metadata": {},
     "output_type": "execute_result"
    }
   ],
   "source": [
    "tokeniser = TreebankWordTokenizer()\n",
    "train['tokens'] =train['message'].apply(tokeniser.tokenize)\n",
    "test['tokens'] =train['message'].apply(tokeniser.tokenize)\n",
    "train['tokens']"
   ]
  },
  {
   "cell_type": "code",
   "execution_count": 88,
   "id": "4b3e8b8f",
   "metadata": {},
   "outputs": [
    {
     "data": {
      "text/plain": [
       "0        [polyscimajor, epa, chief, doesn, t, think, ca...\n",
       "1        [it, s, not, like, we, lack, evidence, of, ant...\n",
       "2        [researchers, say, we, have, three, years, to,...\n",
       "3        [todayinmaker, wired, 2016, was, a, pivotal, y...\n",
       "4        [it, s, 2016, and, a, racist, sexist, climate,...\n",
       "                               ...                        \n",
       "10541    [ecowas, says, addressing, climate, change, is...\n",
       "10542    [my, god, he, s, going, to, build, a, wall, pr...\n",
       "10543    [if, we, don, t, address, climate, change, the...\n",
       "10544    [i, m, wearing, a, jean, jacket, during, winte...\n",
       "10545    [you, know, what, im, so, stoked, on, the, fac...\n",
       "Name: tokens, Length: 10546, dtype: object"
      ]
     },
     "execution_count": 88,
     "metadata": {},
     "output_type": "execute_result"
    }
   ],
   "source": [
    "test['tokens']"
   ]
  },
  {
   "cell_type": "markdown",
   "id": "459bb1a9",
   "metadata": {},
   "source": [
    "# Stemming"
   ]
  },
  {
   "cell_type": "code",
   "execution_count": 89,
   "id": "2008c9b7",
   "metadata": {},
   "outputs": [],
   "source": [
    "stemmer = SnowballStemmer('english')\n",
    "def train_stemmer(tokens, stemmer):\n",
    "    return [stemmer.stem(word) for word in tokens]"
   ]
  },
  {
   "cell_type": "code",
   "execution_count": 90,
   "id": "e1c899b5",
   "metadata": {},
   "outputs": [],
   "source": [
    "train['stem'] = train['tokens'].apply(train_stemmer, args=(stemmer, ))\n",
    "test['stem'] = train['tokens'].apply(train_stemmer, args=(stemmer, ))"
   ]
  },
  {
   "cell_type": "code",
   "execution_count": 91,
   "id": "b389c57c",
   "metadata": {},
   "outputs": [
    {
     "data": {
      "text/html": [
       "<div>\n",
       "<style scoped>\n",
       "    .dataframe tbody tr th:only-of-type {\n",
       "        vertical-align: middle;\n",
       "    }\n",
       "\n",
       "    .dataframe tbody tr th {\n",
       "        vertical-align: top;\n",
       "    }\n",
       "\n",
       "    .dataframe thead th {\n",
       "        text-align: right;\n",
       "    }\n",
       "</style>\n",
       "<table border=\"1\" class=\"dataframe\">\n",
       "  <thead>\n",
       "    <tr style=\"text-align: right;\">\n",
       "      <th></th>\n",
       "      <th>sentiment</th>\n",
       "      <th>message</th>\n",
       "      <th>tweetid</th>\n",
       "      <th>Analysis</th>\n",
       "      <th>tokens</th>\n",
       "      <th>stem</th>\n",
       "    </tr>\n",
       "  </thead>\n",
       "  <tbody>\n",
       "    <tr>\n",
       "      <th>0</th>\n",
       "      <td>1</td>\n",
       "      <td>polyscimajor epa chief doesn t think carbon di...</td>\n",
       "      <td>625221</td>\n",
       "      <td>Pro</td>\n",
       "      <td>[polyscimajor, epa, chief, doesn, t, think, ca...</td>\n",
       "      <td>[polyscimajor, epa, chief, doesn, t, think, ca...</td>\n",
       "    </tr>\n",
       "    <tr>\n",
       "      <th>1</th>\n",
       "      <td>1</td>\n",
       "      <td>it s not like we lack evidence of anthropogeni...</td>\n",
       "      <td>126103</td>\n",
       "      <td>Pro</td>\n",
       "      <td>[it, s, not, like, we, lack, evidence, of, ant...</td>\n",
       "      <td>[it, s, not, like, we, lack, evid, of, anthrop...</td>\n",
       "    </tr>\n",
       "    <tr>\n",
       "      <th>2</th>\n",
       "      <td>2</td>\n",
       "      <td>researchers say we have three years to act on ...</td>\n",
       "      <td>698562</td>\n",
       "      <td>News</td>\n",
       "      <td>[researchers, say, we, have, three, years, to,...</td>\n",
       "      <td>[research, say, we, have, three, year, to, act...</td>\n",
       "    </tr>\n",
       "    <tr>\n",
       "      <th>3</th>\n",
       "      <td>1</td>\n",
       "      <td>todayinmaker wired 2016 was a pivotal year in ...</td>\n",
       "      <td>573736</td>\n",
       "      <td>Pro</td>\n",
       "      <td>[todayinmaker, wired, 2016, was, a, pivotal, y...</td>\n",
       "      <td>[todayinmak, wire, 2016, was, a, pivot, year, ...</td>\n",
       "    </tr>\n",
       "    <tr>\n",
       "      <th>4</th>\n",
       "      <td>1</td>\n",
       "      <td>it s 2016 and a racist sexist climate change d...</td>\n",
       "      <td>466954</td>\n",
       "      <td>Pro</td>\n",
       "      <td>[it, s, 2016, and, a, racist, sexist, climate,...</td>\n",
       "      <td>[it, s, 2016, and, a, racist, sexist, climat, ...</td>\n",
       "    </tr>\n",
       "  </tbody>\n",
       "</table>\n",
       "</div>"
      ],
      "text/plain": [
       "   sentiment                                            message  tweetid  \\\n",
       "0          1  polyscimajor epa chief doesn t think carbon di...   625221   \n",
       "1          1  it s not like we lack evidence of anthropogeni...   126103   \n",
       "2          2  researchers say we have three years to act on ...   698562   \n",
       "3          1  todayinmaker wired 2016 was a pivotal year in ...   573736   \n",
       "4          1  it s 2016 and a racist sexist climate change d...   466954   \n",
       "\n",
       "  Analysis                                             tokens  \\\n",
       "0      Pro  [polyscimajor, epa, chief, doesn, t, think, ca...   \n",
       "1      Pro  [it, s, not, like, we, lack, evidence, of, ant...   \n",
       "2     News  [researchers, say, we, have, three, years, to,...   \n",
       "3      Pro  [todayinmaker, wired, 2016, was, a, pivotal, y...   \n",
       "4      Pro  [it, s, 2016, and, a, racist, sexist, climate,...   \n",
       "\n",
       "                                                stem  \n",
       "0  [polyscimajor, epa, chief, doesn, t, think, ca...  \n",
       "1  [it, s, not, like, we, lack, evid, of, anthrop...  \n",
       "2  [research, say, we, have, three, year, to, act...  \n",
       "3  [todayinmak, wire, 2016, was, a, pivot, year, ...  \n",
       "4  [it, s, 2016, and, a, racist, sexist, climat, ...  "
      ]
     },
     "execution_count": 91,
     "metadata": {},
     "output_type": "execute_result"
    }
   ],
   "source": [
    "train.head()"
   ]
  },
  {
   "cell_type": "code",
   "execution_count": 92,
   "id": "561c4cf2",
   "metadata": {},
   "outputs": [
    {
     "data": {
      "text/html": [
       "<div>\n",
       "<style scoped>\n",
       "    .dataframe tbody tr th:only-of-type {\n",
       "        vertical-align: middle;\n",
       "    }\n",
       "\n",
       "    .dataframe tbody tr th {\n",
       "        vertical-align: top;\n",
       "    }\n",
       "\n",
       "    .dataframe thead th {\n",
       "        text-align: right;\n",
       "    }\n",
       "</style>\n",
       "<table border=\"1\" class=\"dataframe\">\n",
       "  <thead>\n",
       "    <tr style=\"text-align: right;\">\n",
       "      <th></th>\n",
       "      <th>message</th>\n",
       "      <th>tweetid</th>\n",
       "      <th>tokens</th>\n",
       "      <th>stem</th>\n",
       "    </tr>\n",
       "  </thead>\n",
       "  <tbody>\n",
       "    <tr>\n",
       "      <th>0</th>\n",
       "      <td>polyscimajor epa chief doesn t think carbon di...</td>\n",
       "      <td>169760</td>\n",
       "      <td>[polyscimajor, epa, chief, doesn, t, think, ca...</td>\n",
       "      <td>[polyscimajor, epa, chief, doesn, t, think, ca...</td>\n",
       "    </tr>\n",
       "    <tr>\n",
       "      <th>1</th>\n",
       "      <td>it s not like we lack evidence of anthropogeni...</td>\n",
       "      <td>35326</td>\n",
       "      <td>[it, s, not, like, we, lack, evidence, of, ant...</td>\n",
       "      <td>[it, s, not, like, we, lack, evid, of, anthrop...</td>\n",
       "    </tr>\n",
       "    <tr>\n",
       "      <th>2</th>\n",
       "      <td>researchers say we have three years to act on ...</td>\n",
       "      <td>224985</td>\n",
       "      <td>[researchers, say, we, have, three, years, to,...</td>\n",
       "      <td>[research, say, we, have, three, year, to, act...</td>\n",
       "    </tr>\n",
       "    <tr>\n",
       "      <th>3</th>\n",
       "      <td>todayinmaker wired 2016 was a pivotal year in ...</td>\n",
       "      <td>476263</td>\n",
       "      <td>[todayinmaker, wired, 2016, was, a, pivotal, y...</td>\n",
       "      <td>[todayinmak, wire, 2016, was, a, pivot, year, ...</td>\n",
       "    </tr>\n",
       "    <tr>\n",
       "      <th>4</th>\n",
       "      <td>it s 2016 and a racist sexist climate change d...</td>\n",
       "      <td>872928</td>\n",
       "      <td>[it, s, 2016, and, a, racist, sexist, climate,...</td>\n",
       "      <td>[it, s, 2016, and, a, racist, sexist, climat, ...</td>\n",
       "    </tr>\n",
       "  </tbody>\n",
       "</table>\n",
       "</div>"
      ],
      "text/plain": [
       "                                             message  tweetid  \\\n",
       "0  polyscimajor epa chief doesn t think carbon di...   169760   \n",
       "1  it s not like we lack evidence of anthropogeni...    35326   \n",
       "2  researchers say we have three years to act on ...   224985   \n",
       "3  todayinmaker wired 2016 was a pivotal year in ...   476263   \n",
       "4  it s 2016 and a racist sexist climate change d...   872928   \n",
       "\n",
       "                                              tokens  \\\n",
       "0  [polyscimajor, epa, chief, doesn, t, think, ca...   \n",
       "1  [it, s, not, like, we, lack, evidence, of, ant...   \n",
       "2  [researchers, say, we, have, three, years, to,...   \n",
       "3  [todayinmaker, wired, 2016, was, a, pivotal, y...   \n",
       "4  [it, s, 2016, and, a, racist, sexist, climate,...   \n",
       "\n",
       "                                                stem  \n",
       "0  [polyscimajor, epa, chief, doesn, t, think, ca...  \n",
       "1  [it, s, not, like, we, lack, evid, of, anthrop...  \n",
       "2  [research, say, we, have, three, year, to, act...  \n",
       "3  [todayinmak, wire, 2016, was, a, pivot, year, ...  \n",
       "4  [it, s, 2016, and, a, racist, sexist, climat, ...  "
      ]
     },
     "execution_count": 92,
     "metadata": {},
     "output_type": "execute_result"
    }
   ],
   "source": [
    "test.head()"
   ]
  },
  {
   "cell_type": "code",
   "execution_count": 93,
   "id": "fb977917",
   "metadata": {},
   "outputs": [],
   "source": [
    "# Create WordNetLemmatizer object\n",
    "lemmatizer = WordNetLemmatizer()\n",
    "\n",
    "def train_lemma(tokens, lemmatizer):\n",
    "    return [lemmatizer.lemmatize(word) for word in tokens]    "
   ]
  },
  {
   "cell_type": "code",
   "execution_count": 94,
   "id": "abad136f",
   "metadata": {},
   "outputs": [],
   "source": [
    "train['lemma'] = train['tokens'].apply(train_lemma, args=(lemmatizer, ))\n",
    "test['lemma'] = test['tokens'].apply(train_lemma, args=(lemmatizer, ))"
   ]
  },
  {
   "cell_type": "code",
   "execution_count": 95,
   "id": "237fd1d6",
   "metadata": {},
   "outputs": [
    {
     "data": {
      "text/html": [
       "<div>\n",
       "<style scoped>\n",
       "    .dataframe tbody tr th:only-of-type {\n",
       "        vertical-align: middle;\n",
       "    }\n",
       "\n",
       "    .dataframe tbody tr th {\n",
       "        vertical-align: top;\n",
       "    }\n",
       "\n",
       "    .dataframe thead th {\n",
       "        text-align: right;\n",
       "    }\n",
       "</style>\n",
       "<table border=\"1\" class=\"dataframe\">\n",
       "  <thead>\n",
       "    <tr style=\"text-align: right;\">\n",
       "      <th></th>\n",
       "      <th>sentiment</th>\n",
       "      <th>message</th>\n",
       "      <th>tweetid</th>\n",
       "      <th>Analysis</th>\n",
       "      <th>tokens</th>\n",
       "      <th>stem</th>\n",
       "      <th>lemma</th>\n",
       "    </tr>\n",
       "  </thead>\n",
       "  <tbody>\n",
       "    <tr>\n",
       "      <th>0</th>\n",
       "      <td>1</td>\n",
       "      <td>polyscimajor epa chief doesn t think carbon di...</td>\n",
       "      <td>625221</td>\n",
       "      <td>Pro</td>\n",
       "      <td>[polyscimajor, epa, chief, doesn, t, think, ca...</td>\n",
       "      <td>[polyscimajor, epa, chief, doesn, t, think, ca...</td>\n",
       "      <td>[polyscimajor, epa, chief, doesn, t, think, ca...</td>\n",
       "    </tr>\n",
       "    <tr>\n",
       "      <th>1</th>\n",
       "      <td>1</td>\n",
       "      <td>it s not like we lack evidence of anthropogeni...</td>\n",
       "      <td>126103</td>\n",
       "      <td>Pro</td>\n",
       "      <td>[it, s, not, like, we, lack, evidence, of, ant...</td>\n",
       "      <td>[it, s, not, like, we, lack, evid, of, anthrop...</td>\n",
       "      <td>[it, s, not, like, we, lack, evidence, of, ant...</td>\n",
       "    </tr>\n",
       "    <tr>\n",
       "      <th>2</th>\n",
       "      <td>2</td>\n",
       "      <td>researchers say we have three years to act on ...</td>\n",
       "      <td>698562</td>\n",
       "      <td>News</td>\n",
       "      <td>[researchers, say, we, have, three, years, to,...</td>\n",
       "      <td>[research, say, we, have, three, year, to, act...</td>\n",
       "      <td>[researcher, say, we, have, three, year, to, a...</td>\n",
       "    </tr>\n",
       "    <tr>\n",
       "      <th>3</th>\n",
       "      <td>1</td>\n",
       "      <td>todayinmaker wired 2016 was a pivotal year in ...</td>\n",
       "      <td>573736</td>\n",
       "      <td>Pro</td>\n",
       "      <td>[todayinmaker, wired, 2016, was, a, pivotal, y...</td>\n",
       "      <td>[todayinmak, wire, 2016, was, a, pivot, year, ...</td>\n",
       "      <td>[todayinmaker, wired, 2016, wa, a, pivotal, ye...</td>\n",
       "    </tr>\n",
       "    <tr>\n",
       "      <th>4</th>\n",
       "      <td>1</td>\n",
       "      <td>it s 2016 and a racist sexist climate change d...</td>\n",
       "      <td>466954</td>\n",
       "      <td>Pro</td>\n",
       "      <td>[it, s, 2016, and, a, racist, sexist, climate,...</td>\n",
       "      <td>[it, s, 2016, and, a, racist, sexist, climat, ...</td>\n",
       "      <td>[it, s, 2016, and, a, racist, sexist, climate,...</td>\n",
       "    </tr>\n",
       "  </tbody>\n",
       "</table>\n",
       "</div>"
      ],
      "text/plain": [
       "   sentiment                                            message  tweetid  \\\n",
       "0          1  polyscimajor epa chief doesn t think carbon di...   625221   \n",
       "1          1  it s not like we lack evidence of anthropogeni...   126103   \n",
       "2          2  researchers say we have three years to act on ...   698562   \n",
       "3          1  todayinmaker wired 2016 was a pivotal year in ...   573736   \n",
       "4          1  it s 2016 and a racist sexist climate change d...   466954   \n",
       "\n",
       "  Analysis                                             tokens  \\\n",
       "0      Pro  [polyscimajor, epa, chief, doesn, t, think, ca...   \n",
       "1      Pro  [it, s, not, like, we, lack, evidence, of, ant...   \n",
       "2     News  [researchers, say, we, have, three, years, to,...   \n",
       "3      Pro  [todayinmaker, wired, 2016, was, a, pivotal, y...   \n",
       "4      Pro  [it, s, 2016, and, a, racist, sexist, climate,...   \n",
       "\n",
       "                                                stem  \\\n",
       "0  [polyscimajor, epa, chief, doesn, t, think, ca...   \n",
       "1  [it, s, not, like, we, lack, evid, of, anthrop...   \n",
       "2  [research, say, we, have, three, year, to, act...   \n",
       "3  [todayinmak, wire, 2016, was, a, pivot, year, ...   \n",
       "4  [it, s, 2016, and, a, racist, sexist, climat, ...   \n",
       "\n",
       "                                               lemma  \n",
       "0  [polyscimajor, epa, chief, doesn, t, think, ca...  \n",
       "1  [it, s, not, like, we, lack, evidence, of, ant...  \n",
       "2  [researcher, say, we, have, three, year, to, a...  \n",
       "3  [todayinmaker, wired, 2016, wa, a, pivotal, ye...  \n",
       "4  [it, s, 2016, and, a, racist, sexist, climate,...  "
      ]
     },
     "execution_count": 95,
     "metadata": {},
     "output_type": "execute_result"
    }
   ],
   "source": [
    "train.head()"
   ]
  },
  {
   "cell_type": "code",
   "execution_count": 96,
   "id": "ffe2f3dd",
   "metadata": {},
   "outputs": [
    {
     "data": {
      "text/html": [
       "<div>\n",
       "<style scoped>\n",
       "    .dataframe tbody tr th:only-of-type {\n",
       "        vertical-align: middle;\n",
       "    }\n",
       "\n",
       "    .dataframe tbody tr th {\n",
       "        vertical-align: top;\n",
       "    }\n",
       "\n",
       "    .dataframe thead th {\n",
       "        text-align: right;\n",
       "    }\n",
       "</style>\n",
       "<table border=\"1\" class=\"dataframe\">\n",
       "  <thead>\n",
       "    <tr style=\"text-align: right;\">\n",
       "      <th></th>\n",
       "      <th>message</th>\n",
       "      <th>tweetid</th>\n",
       "      <th>tokens</th>\n",
       "      <th>stem</th>\n",
       "      <th>lemma</th>\n",
       "    </tr>\n",
       "  </thead>\n",
       "  <tbody>\n",
       "    <tr>\n",
       "      <th>0</th>\n",
       "      <td>polyscimajor epa chief doesn t think carbon di...</td>\n",
       "      <td>169760</td>\n",
       "      <td>[polyscimajor, epa, chief, doesn, t, think, ca...</td>\n",
       "      <td>[polyscimajor, epa, chief, doesn, t, think, ca...</td>\n",
       "      <td>[polyscimajor, epa, chief, doesn, t, think, ca...</td>\n",
       "    </tr>\n",
       "    <tr>\n",
       "      <th>1</th>\n",
       "      <td>it s not like we lack evidence of anthropogeni...</td>\n",
       "      <td>35326</td>\n",
       "      <td>[it, s, not, like, we, lack, evidence, of, ant...</td>\n",
       "      <td>[it, s, not, like, we, lack, evid, of, anthrop...</td>\n",
       "      <td>[it, s, not, like, we, lack, evidence, of, ant...</td>\n",
       "    </tr>\n",
       "    <tr>\n",
       "      <th>2</th>\n",
       "      <td>researchers say we have three years to act on ...</td>\n",
       "      <td>224985</td>\n",
       "      <td>[researchers, say, we, have, three, years, to,...</td>\n",
       "      <td>[research, say, we, have, three, year, to, act...</td>\n",
       "      <td>[researcher, say, we, have, three, year, to, a...</td>\n",
       "    </tr>\n",
       "    <tr>\n",
       "      <th>3</th>\n",
       "      <td>todayinmaker wired 2016 was a pivotal year in ...</td>\n",
       "      <td>476263</td>\n",
       "      <td>[todayinmaker, wired, 2016, was, a, pivotal, y...</td>\n",
       "      <td>[todayinmak, wire, 2016, was, a, pivot, year, ...</td>\n",
       "      <td>[todayinmaker, wired, 2016, wa, a, pivotal, ye...</td>\n",
       "    </tr>\n",
       "    <tr>\n",
       "      <th>4</th>\n",
       "      <td>it s 2016 and a racist sexist climate change d...</td>\n",
       "      <td>872928</td>\n",
       "      <td>[it, s, 2016, and, a, racist, sexist, climate,...</td>\n",
       "      <td>[it, s, 2016, and, a, racist, sexist, climat, ...</td>\n",
       "      <td>[it, s, 2016, and, a, racist, sexist, climate,...</td>\n",
       "    </tr>\n",
       "  </tbody>\n",
       "</table>\n",
       "</div>"
      ],
      "text/plain": [
       "                                             message  tweetid  \\\n",
       "0  polyscimajor epa chief doesn t think carbon di...   169760   \n",
       "1  it s not like we lack evidence of anthropogeni...    35326   \n",
       "2  researchers say we have three years to act on ...   224985   \n",
       "3  todayinmaker wired 2016 was a pivotal year in ...   476263   \n",
       "4  it s 2016 and a racist sexist climate change d...   872928   \n",
       "\n",
       "                                              tokens  \\\n",
       "0  [polyscimajor, epa, chief, doesn, t, think, ca...   \n",
       "1  [it, s, not, like, we, lack, evidence, of, ant...   \n",
       "2  [researchers, say, we, have, three, years, to,...   \n",
       "3  [todayinmaker, wired, 2016, was, a, pivotal, y...   \n",
       "4  [it, s, 2016, and, a, racist, sexist, climate,...   \n",
       "\n",
       "                                                stem  \\\n",
       "0  [polyscimajor, epa, chief, doesn, t, think, ca...   \n",
       "1  [it, s, not, like, we, lack, evid, of, anthrop...   \n",
       "2  [research, say, we, have, three, year, to, act...   \n",
       "3  [todayinmak, wire, 2016, was, a, pivot, year, ...   \n",
       "4  [it, s, 2016, and, a, racist, sexist, climat, ...   \n",
       "\n",
       "                                               lemma  \n",
       "0  [polyscimajor, epa, chief, doesn, t, think, ca...  \n",
       "1  [it, s, not, like, we, lack, evidence, of, ant...  \n",
       "2  [researcher, say, we, have, three, year, to, a...  \n",
       "3  [todayinmaker, wired, 2016, wa, a, pivotal, ye...  \n",
       "4  [it, s, 2016, and, a, racist, sexist, climate,...  "
      ]
     },
     "execution_count": 96,
     "metadata": {},
     "output_type": "execute_result"
    }
   ],
   "source": [
    "test.head()"
   ]
  },
  {
   "cell_type": "code",
   "execution_count": 97,
   "id": "a40ef37a",
   "metadata": {},
   "outputs": [],
   "source": [
    "def remove_stop_words(tokens):    \n",
    "    return [t for t in tokens if t not in stopwords.words('english')]"
   ]
  },
  {
   "cell_type": "code",
   "execution_count": 98,
   "id": "910023b4",
   "metadata": {},
   "outputs": [],
   "source": [
    "train['stop_word'] = train['tokens'].apply(remove_stop_words)"
   ]
  },
  {
   "cell_type": "code",
   "execution_count": 99,
   "id": "f1f42c2c",
   "metadata": {},
   "outputs": [],
   "source": [
    "test['stop_word'] = test['tokens'].apply(remove_stop_words)"
   ]
  },
  {
   "cell_type": "code",
   "execution_count": 100,
   "id": "cc632943",
   "metadata": {},
   "outputs": [
    {
     "data": {
      "text/html": [
       "<div>\n",
       "<style scoped>\n",
       "    .dataframe tbody tr th:only-of-type {\n",
       "        vertical-align: middle;\n",
       "    }\n",
       "\n",
       "    .dataframe tbody tr th {\n",
       "        vertical-align: top;\n",
       "    }\n",
       "\n",
       "    .dataframe thead th {\n",
       "        text-align: right;\n",
       "    }\n",
       "</style>\n",
       "<table border=\"1\" class=\"dataframe\">\n",
       "  <thead>\n",
       "    <tr style=\"text-align: right;\">\n",
       "      <th></th>\n",
       "      <th>sentiment</th>\n",
       "      <th>message</th>\n",
       "      <th>tweetid</th>\n",
       "      <th>Analysis</th>\n",
       "      <th>tokens</th>\n",
       "      <th>stem</th>\n",
       "      <th>lemma</th>\n",
       "      <th>stop_word</th>\n",
       "    </tr>\n",
       "  </thead>\n",
       "  <tbody>\n",
       "    <tr>\n",
       "      <th>0</th>\n",
       "      <td>1</td>\n",
       "      <td>polyscimajor epa chief doesn t think carbon di...</td>\n",
       "      <td>625221</td>\n",
       "      <td>Pro</td>\n",
       "      <td>[polyscimajor, epa, chief, doesn, t, think, ca...</td>\n",
       "      <td>[polyscimajor, epa, chief, doesn, t, think, ca...</td>\n",
       "      <td>[polyscimajor, epa, chief, doesn, t, think, ca...</td>\n",
       "      <td>[polyscimajor, epa, chief, think, carbon, diox...</td>\n",
       "    </tr>\n",
       "    <tr>\n",
       "      <th>1</th>\n",
       "      <td>1</td>\n",
       "      <td>it s not like we lack evidence of anthropogeni...</td>\n",
       "      <td>126103</td>\n",
       "      <td>Pro</td>\n",
       "      <td>[it, s, not, like, we, lack, evidence, of, ant...</td>\n",
       "      <td>[it, s, not, like, we, lack, evid, of, anthrop...</td>\n",
       "      <td>[it, s, not, like, we, lack, evidence, of, ant...</td>\n",
       "      <td>[like, lack, evidence, anthropogenic, global, ...</td>\n",
       "    </tr>\n",
       "    <tr>\n",
       "      <th>2</th>\n",
       "      <td>2</td>\n",
       "      <td>researchers say we have three years to act on ...</td>\n",
       "      <td>698562</td>\n",
       "      <td>News</td>\n",
       "      <td>[researchers, say, we, have, three, years, to,...</td>\n",
       "      <td>[research, say, we, have, three, year, to, act...</td>\n",
       "      <td>[researcher, say, we, have, three, year, to, a...</td>\n",
       "      <td>[researchers, say, three, years, act, climate,...</td>\n",
       "    </tr>\n",
       "    <tr>\n",
       "      <th>3</th>\n",
       "      <td>1</td>\n",
       "      <td>todayinmaker wired 2016 was a pivotal year in ...</td>\n",
       "      <td>573736</td>\n",
       "      <td>Pro</td>\n",
       "      <td>[todayinmaker, wired, 2016, was, a, pivotal, y...</td>\n",
       "      <td>[todayinmak, wire, 2016, was, a, pivot, year, ...</td>\n",
       "      <td>[todayinmaker, wired, 2016, wa, a, pivotal, ye...</td>\n",
       "      <td>[todayinmaker, wired, 2016, pivotal, year, war...</td>\n",
       "    </tr>\n",
       "    <tr>\n",
       "      <th>4</th>\n",
       "      <td>1</td>\n",
       "      <td>it s 2016 and a racist sexist climate change d...</td>\n",
       "      <td>466954</td>\n",
       "      <td>Pro</td>\n",
       "      <td>[it, s, 2016, and, a, racist, sexist, climate,...</td>\n",
       "      <td>[it, s, 2016, and, a, racist, sexist, climat, ...</td>\n",
       "      <td>[it, s, 2016, and, a, racist, sexist, climate,...</td>\n",
       "      <td>[2016, racist, sexist, climate, change, denyin...</td>\n",
       "    </tr>\n",
       "  </tbody>\n",
       "</table>\n",
       "</div>"
      ],
      "text/plain": [
       "   sentiment                                            message  tweetid  \\\n",
       "0          1  polyscimajor epa chief doesn t think carbon di...   625221   \n",
       "1          1  it s not like we lack evidence of anthropogeni...   126103   \n",
       "2          2  researchers say we have three years to act on ...   698562   \n",
       "3          1  todayinmaker wired 2016 was a pivotal year in ...   573736   \n",
       "4          1  it s 2016 and a racist sexist climate change d...   466954   \n",
       "\n",
       "  Analysis                                             tokens  \\\n",
       "0      Pro  [polyscimajor, epa, chief, doesn, t, think, ca...   \n",
       "1      Pro  [it, s, not, like, we, lack, evidence, of, ant...   \n",
       "2     News  [researchers, say, we, have, three, years, to,...   \n",
       "3      Pro  [todayinmaker, wired, 2016, was, a, pivotal, y...   \n",
       "4      Pro  [it, s, 2016, and, a, racist, sexist, climate,...   \n",
       "\n",
       "                                                stem  \\\n",
       "0  [polyscimajor, epa, chief, doesn, t, think, ca...   \n",
       "1  [it, s, not, like, we, lack, evid, of, anthrop...   \n",
       "2  [research, say, we, have, three, year, to, act...   \n",
       "3  [todayinmak, wire, 2016, was, a, pivot, year, ...   \n",
       "4  [it, s, 2016, and, a, racist, sexist, climat, ...   \n",
       "\n",
       "                                               lemma  \\\n",
       "0  [polyscimajor, epa, chief, doesn, t, think, ca...   \n",
       "1  [it, s, not, like, we, lack, evidence, of, ant...   \n",
       "2  [researcher, say, we, have, three, year, to, a...   \n",
       "3  [todayinmaker, wired, 2016, wa, a, pivotal, ye...   \n",
       "4  [it, s, 2016, and, a, racist, sexist, climate,...   \n",
       "\n",
       "                                           stop_word  \n",
       "0  [polyscimajor, epa, chief, think, carbon, diox...  \n",
       "1  [like, lack, evidence, anthropogenic, global, ...  \n",
       "2  [researchers, say, three, years, act, climate,...  \n",
       "3  [todayinmaker, wired, 2016, pivotal, year, war...  \n",
       "4  [2016, racist, sexist, climate, change, denyin...  "
      ]
     },
     "execution_count": 100,
     "metadata": {},
     "output_type": "execute_result"
    }
   ],
   "source": [
    "train.head()"
   ]
  },
  {
   "cell_type": "code",
   "execution_count": 120,
   "id": "90323246",
   "metadata": {},
   "outputs": [
    {
     "data": {
      "text/html": [
       "<div>\n",
       "<style scoped>\n",
       "    .dataframe tbody tr th:only-of-type {\n",
       "        vertical-align: middle;\n",
       "    }\n",
       "\n",
       "    .dataframe tbody tr th {\n",
       "        vertical-align: top;\n",
       "    }\n",
       "\n",
       "    .dataframe thead th {\n",
       "        text-align: right;\n",
       "    }\n",
       "</style>\n",
       "<table border=\"1\" class=\"dataframe\">\n",
       "  <thead>\n",
       "    <tr style=\"text-align: right;\">\n",
       "      <th></th>\n",
       "      <th>sentiment</th>\n",
       "      <th>lemma</th>\n",
       "    </tr>\n",
       "  </thead>\n",
       "  <tbody>\n",
       "    <tr>\n",
       "      <th>0</th>\n",
       "      <td>1</td>\n",
       "      <td>[polyscimajor, epa, chief, doesn, t, think, ca...</td>\n",
       "    </tr>\n",
       "    <tr>\n",
       "      <th>1</th>\n",
       "      <td>1</td>\n",
       "      <td>[it, s, not, like, we, lack, evidence, of, ant...</td>\n",
       "    </tr>\n",
       "    <tr>\n",
       "      <th>2</th>\n",
       "      <td>2</td>\n",
       "      <td>[researcher, say, we, have, three, year, to, a...</td>\n",
       "    </tr>\n",
       "    <tr>\n",
       "      <th>3</th>\n",
       "      <td>1</td>\n",
       "      <td>[todayinmaker, wired, 2016, wa, a, pivotal, ye...</td>\n",
       "    </tr>\n",
       "    <tr>\n",
       "      <th>4</th>\n",
       "      <td>1</td>\n",
       "      <td>[it, s, 2016, and, a, racist, sexist, climate,...</td>\n",
       "    </tr>\n",
       "  </tbody>\n",
       "</table>\n",
       "</div>"
      ],
      "text/plain": [
       "   sentiment                                              lemma\n",
       "0          1  [polyscimajor, epa, chief, doesn, t, think, ca...\n",
       "1          1  [it, s, not, like, we, lack, evidence, of, ant...\n",
       "2          2  [researcher, say, we, have, three, year, to, a...\n",
       "3          1  [todayinmaker, wired, 2016, wa, a, pivotal, ye...\n",
       "4          1  [it, s, 2016, and, a, racist, sexist, climate,..."
      ]
     },
     "execution_count": 120,
     "metadata": {},
     "output_type": "execute_result"
    }
   ],
   "source": [
    "#create a new dataframe with the sentiment and lemma columns\n",
    "train2=train[['sentiment', 'lemma']]\n",
    "train2.head()"
   ]
  },
  {
   "cell_type": "code",
   "execution_count": 121,
   "id": "4b7e7132",
   "metadata": {
    "scrolled": true
   },
   "outputs": [
    {
     "name": "stderr",
     "output_type": "stream",
     "text": [
      "<ipython-input-121-7ae8ce9f115f>:1: SettingWithCopyWarning: \n",
      "A value is trying to be set on a copy of a slice from a DataFrame.\n",
      "Try using .loc[row_indexer,col_indexer] = value instead\n",
      "\n",
      "See the caveats in the documentation: https://pandas.pydata.org/pandas-docs/stable/user_guide/indexing.html#returning-a-view-versus-a-copy\n",
      "  train2['lemma_str'] = [' '.join(map(str,l)) for l in train2['lemma']]\n"
     ]
    },
    {
     "data": {
      "text/html": [
       "<div>\n",
       "<style scoped>\n",
       "    .dataframe tbody tr th:only-of-type {\n",
       "        vertical-align: middle;\n",
       "    }\n",
       "\n",
       "    .dataframe tbody tr th {\n",
       "        vertical-align: top;\n",
       "    }\n",
       "\n",
       "    .dataframe thead th {\n",
       "        text-align: right;\n",
       "    }\n",
       "</style>\n",
       "<table border=\"1\" class=\"dataframe\">\n",
       "  <thead>\n",
       "    <tr style=\"text-align: right;\">\n",
       "      <th></th>\n",
       "      <th>sentiment</th>\n",
       "      <th>lemma</th>\n",
       "      <th>lemma_str</th>\n",
       "    </tr>\n",
       "  </thead>\n",
       "  <tbody>\n",
       "    <tr>\n",
       "      <th>0</th>\n",
       "      <td>1</td>\n",
       "      <td>[polyscimajor, epa, chief, doesn, t, think, ca...</td>\n",
       "      <td>polyscimajor epa chief doesn t think carbon di...</td>\n",
       "    </tr>\n",
       "    <tr>\n",
       "      <th>1</th>\n",
       "      <td>1</td>\n",
       "      <td>[it, s, not, like, we, lack, evidence, of, ant...</td>\n",
       "      <td>it s not like we lack evidence of anthropogeni...</td>\n",
       "    </tr>\n",
       "    <tr>\n",
       "      <th>2</th>\n",
       "      <td>2</td>\n",
       "      <td>[researcher, say, we, have, three, year, to, a...</td>\n",
       "      <td>researcher say we have three year to act on cl...</td>\n",
       "    </tr>\n",
       "    <tr>\n",
       "      <th>3</th>\n",
       "      <td>1</td>\n",
       "      <td>[todayinmaker, wired, 2016, wa, a, pivotal, ye...</td>\n",
       "      <td>todayinmaker wired 2016 wa a pivotal year in t...</td>\n",
       "    </tr>\n",
       "    <tr>\n",
       "      <th>4</th>\n",
       "      <td>1</td>\n",
       "      <td>[it, s, 2016, and, a, racist, sexist, climate,...</td>\n",
       "      <td>it s 2016 and a racist sexist climate change d...</td>\n",
       "    </tr>\n",
       "  </tbody>\n",
       "</table>\n",
       "</div>"
      ],
      "text/plain": [
       "   sentiment                                              lemma  \\\n",
       "0          1  [polyscimajor, epa, chief, doesn, t, think, ca...   \n",
       "1          1  [it, s, not, like, we, lack, evidence, of, ant...   \n",
       "2          2  [researcher, say, we, have, three, year, to, a...   \n",
       "3          1  [todayinmaker, wired, 2016, wa, a, pivotal, ye...   \n",
       "4          1  [it, s, 2016, and, a, racist, sexist, climate,...   \n",
       "\n",
       "                                           lemma_str  \n",
       "0  polyscimajor epa chief doesn t think carbon di...  \n",
       "1  it s not like we lack evidence of anthropogeni...  \n",
       "2  researcher say we have three year to act on cl...  \n",
       "3  todayinmaker wired 2016 wa a pivotal year in t...  \n",
       "4  it s 2016 and a racist sexist climate change d...  "
      ]
     },
     "execution_count": 121,
     "metadata": {},
     "output_type": "execute_result"
    }
   ],
   "source": [
    "train2['lemma_str'] = [' '.join(map(str,l)) for l in train2['lemma']]\n",
    "train2.head()"
   ]
  },
  {
   "cell_type": "code",
   "execution_count": 122,
   "id": "f9c763d3",
   "metadata": {},
   "outputs": [],
   "source": [
    "from sklearn.feature_extraction.text import CountVectorizer"
   ]
  },
  {
   "cell_type": "code",
   "execution_count": 138,
   "id": "a2bae94d",
   "metadata": {},
   "outputs": [],
   "source": [
    "X= train2['lemma_str']\n",
    "Y= train2['sentiment']"
   ]
  },
  {
   "cell_type": "code",
   "execution_count": 139,
   "id": "ee30182a",
   "metadata": {},
   "outputs": [],
   "source": [
    "vect = CountVectorizer()\n",
    "X= vect.fit(train2['lemma_str'])"
   ]
  },
  {
   "cell_type": "code",
   "execution_count": 141,
   "id": "7e06584b",
   "metadata": {},
   "outputs": [],
   "source": [
    "from sklearn.model_selection import train_test_split"
   ]
  },
  {
   "cell_type": "code",
   "execution_count": null,
   "id": "45f7526c",
   "metadata": {},
   "outputs": [],
   "source": []
  },
  {
   "cell_type": "code",
   "execution_count": null,
   "id": "bdf0ad05",
   "metadata": {},
   "outputs": [],
   "source": []
  },
  {
   "cell_type": "markdown",
   "id": "1c4bb806",
   "metadata": {},
   "source": [
    "<a id=\"five\"></a>\n",
    "## 5. Modelling\n",
    "<a class=\"anchor\" id=\"1.1\"></a>\n",
    "<a href=#cont>Back to Table of Contents</a>"
   ]
  },
  {
   "cell_type": "code",
   "execution_count": null,
   "id": "8ebbaf22",
   "metadata": {},
   "outputs": [],
   "source": []
  },
  {
   "cell_type": "markdown",
   "id": "78f2a6c9",
   "metadata": {},
   "source": [
    "<a id=\"six\"></a>\n",
    "## 6. Model Performance\n",
    "<a class=\"anchor\" id=\"1.1\"></a>\n",
    "<a href=#cont>Back to Table of Contents</a>"
   ]
  },
  {
   "cell_type": "code",
   "execution_count": null,
   "id": "a75a549d",
   "metadata": {},
   "outputs": [],
   "source": []
  },
  {
   "cell_type": "markdown",
   "id": "cee78308",
   "metadata": {},
   "source": [
    "<a id=\"seven\"></a>\n",
    "## 7. Model Explanations\n",
    "<a class=\"anchor\" id=\"1.1\"></a>\n",
    "<a href=#cont>Back to Table of Contents</a>"
   ]
  },
  {
   "cell_type": "code",
   "execution_count": null,
   "id": "05f40a6f",
   "metadata": {},
   "outputs": [],
   "source": []
  }
 ],
 "metadata": {
  "kernelspec": {
   "display_name": "Python 3",
   "language": "python",
   "name": "python3"
  },
  "language_info": {
   "codemirror_mode": {
    "name": "ipython",
    "version": 3
   },
   "file_extension": ".py",
   "mimetype": "text/x-python",
   "name": "python",
   "nbconvert_exporter": "python",
   "pygments_lexer": "ipython3",
   "version": "3.8.8"
  }
 },
 "nbformat": 4,
 "nbformat_minor": 5
}
