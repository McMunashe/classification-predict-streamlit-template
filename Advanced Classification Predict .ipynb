{
 "cells": [
  {
   "cell_type": "markdown",
   "id": "c58cfe6d",
   "metadata": {},
   "source": [
    "# Advanced Classification Predict "
   ]
  },
  {
   "cell_type": "markdown",
   "id": "9d47aeb2",
   "metadata": {},
   "source": [
    "<a id=\"cont\"></a>\n",
    "\n",
    "## Table of Contents\n",
    "\n",
    "<a href=#one>1. Importing Packages</a>\n",
    "\n",
    "<a href=#two>2. Loading Data</a>\n",
    "\n",
    "<a href=#three>3. Exploratory Data Analysis (EDA)</a>\n",
    "\n",
    "<a href=#four>4. Data Engineering</a>\n",
    "\n",
    "<a href=#five>5. Modeling</a>\n",
    "\n",
    "<a href=#six>6. Model Performance</a>\n",
    "\n",
    "<a href=#seven>7. Model Explanations</a>"
   ]
  },
  {
   "cell_type": "markdown",
   "id": "618326e3",
   "metadata": {},
   "source": [
    " <a id=\"one\"></a>\n",
    "## 1. Importing Packages\n",
    "<a href=#cont>Back to Table of Contents</a>\n"
   ]
  },
  {
   "cell_type": "code",
   "execution_count": 131,
   "id": "a00f8aff",
   "metadata": {},
   "outputs": [],
   "source": [
    "# Import libraries\n",
    "import nltk\n",
    "import pandas as pd\n",
    "import numpy as np\n",
    "import matplotlib.pyplot as plt\n",
    "%matplotlib inline\n",
    "import seaborn as sns\n",
    "import re\n",
    "\n",
    "#set plot style\n",
    "sns.set()"
   ]
  },
  {
   "cell_type": "markdown",
   "id": "09338b17",
   "metadata": {},
   "source": [
    "<a id=\"two\"></a>\n",
    "## 2. Loading the Data\n",
    "<a class=\"anchor\" id=\"1.1\"></a>\n",
    "<a href=#cont>Back to Table of Contents</a>\n"
   ]
  },
  {
   "cell_type": "code",
   "execution_count": 172,
   "id": "b0ba8612",
   "metadata": {
    "scrolled": true
   },
   "outputs": [
    {
     "data": {
      "text/html": [
       "<div>\n",
       "<style scoped>\n",
       "    .dataframe tbody tr th:only-of-type {\n",
       "        vertical-align: middle;\n",
       "    }\n",
       "\n",
       "    .dataframe tbody tr th {\n",
       "        vertical-align: top;\n",
       "    }\n",
       "\n",
       "    .dataframe thead th {\n",
       "        text-align: right;\n",
       "    }\n",
       "</style>\n",
       "<table border=\"1\" class=\"dataframe\">\n",
       "  <thead>\n",
       "    <tr style=\"text-align: right;\">\n",
       "      <th></th>\n",
       "      <th>sentiment</th>\n",
       "      <th>message</th>\n",
       "      <th>tweetid</th>\n",
       "    </tr>\n",
       "  </thead>\n",
       "  <tbody>\n",
       "    <tr>\n",
       "      <th>0</th>\n",
       "      <td>1</td>\n",
       "      <td>PolySciMajor EPA chief doesn't think carbon di...</td>\n",
       "      <td>625221</td>\n",
       "    </tr>\n",
       "    <tr>\n",
       "      <th>1</th>\n",
       "      <td>1</td>\n",
       "      <td>It's not like we lack evidence of anthropogeni...</td>\n",
       "      <td>126103</td>\n",
       "    </tr>\n",
       "    <tr>\n",
       "      <th>2</th>\n",
       "      <td>2</td>\n",
       "      <td>RT @RawStory: Researchers say we have three ye...</td>\n",
       "      <td>698562</td>\n",
       "    </tr>\n",
       "    <tr>\n",
       "      <th>3</th>\n",
       "      <td>1</td>\n",
       "      <td>#TodayinMaker# WIRED : 2016 was a pivotal year...</td>\n",
       "      <td>573736</td>\n",
       "    </tr>\n",
       "    <tr>\n",
       "      <th>4</th>\n",
       "      <td>1</td>\n",
       "      <td>RT @SoyNovioDeTodas: It's 2016, and a racist, ...</td>\n",
       "      <td>466954</td>\n",
       "    </tr>\n",
       "  </tbody>\n",
       "</table>\n",
       "</div>"
      ],
      "text/plain": [
       "   sentiment                                            message  tweetid\n",
       "0          1  PolySciMajor EPA chief doesn't think carbon di...   625221\n",
       "1          1  It's not like we lack evidence of anthropogeni...   126103\n",
       "2          2  RT @RawStory: Researchers say we have three ye...   698562\n",
       "3          1  #TodayinMaker# WIRED : 2016 was a pivotal year...   573736\n",
       "4          1  RT @SoyNovioDeTodas: It's 2016, and a racist, ...   466954"
      ]
     },
     "execution_count": 172,
     "metadata": {},
     "output_type": "execute_result"
    }
   ],
   "source": [
    "# Load files\n",
    "train_ds = pd.read_csv('C:/Users/anyangma/Desktop/Classification/GitFolder/train.csv')\n",
    "# test = pd.read_csv('test.csv')\n",
    "# samplesubmission = pd.read_csv('sample_submission.csv')\n",
    "\n",
    "# Preview train dataset\n",
    "train_ds.head()\n"
   ]
  },
  {
   "cell_type": "code",
   "execution_count": 173,
   "id": "04529dfe",
   "metadata": {
    "scrolled": true
   },
   "outputs": [],
   "source": [
    "# Preview test dataset\n",
    "# test.head()"
   ]
  },
  {
   "cell_type": "code",
   "execution_count": 174,
   "id": "f0676cee",
   "metadata": {},
   "outputs": [],
   "source": [
    "# Preview sample submission file\n",
    "# samplesubmission.head()"
   ]
  },
  {
   "cell_type": "code",
   "execution_count": 175,
   "id": "aec39367",
   "metadata": {},
   "outputs": [
    {
     "name": "stdout",
     "output_type": "stream",
     "text": [
      "showing info https://raw.githubusercontent.com/nltk/nltk_data/gh-pages/index.xml\n"
     ]
    },
    {
     "data": {
      "text/plain": [
       "True"
      ]
     },
     "execution_count": 175,
     "metadata": {},
     "output_type": "execute_result"
    }
   ],
   "source": [
    "nltk.download()"
   ]
  },
  {
   "cell_type": "markdown",
   "id": "632311f8",
   "metadata": {},
   "source": [
    "<a id=\"three\"></a>\n",
    "## 3. Exploratory Data Analysis (EDA)\n",
    "<a class=\"anchor\" id=\"1.1\"></a>\n",
    "<a href=#cont>Back to Table of Contents</a>"
   ]
  },
  {
   "cell_type": "code",
   "execution_count": 176,
   "id": "08a9fa1f",
   "metadata": {},
   "outputs": [
    {
     "data": {
      "text/plain": [
       "((15819, 3),)"
      ]
     },
     "execution_count": 176,
     "metadata": {},
     "output_type": "execute_result"
    }
   ],
   "source": [
    "# Check size and shape of datasets\n",
    "train_ds.shape, # test.shape, samplesubmission.shape"
   ]
  },
  {
   "cell_type": "code",
   "execution_count": 177,
   "id": "6e4a0d11",
   "metadata": {},
   "outputs": [
    {
     "name": "stdout",
     "output_type": "stream",
     "text": [
      "[1, 2, 0, -1]\n"
     ]
    }
   ],
   "source": [
    "# The total number of classes in our dataset\n",
    "type_labels = list(train_ds.sentiment.unique())\n",
    "print(type_labels)"
   ]
  },
  {
   "cell_type": "code",
   "execution_count": 178,
   "id": "e70f0e32",
   "metadata": {},
   "outputs": [
    {
     "data": {
      "text/plain": [
       "<AxesSubplot:>"
      ]
     },
     "execution_count": 178,
     "metadata": {},
     "output_type": "execute_result"
    },
    {
     "data": {
      "image/png": "[encoded data removed]",
      "text/plain": [
       "<Figure size 432x288 with 1 Axes>"
      ]
     },
     "metadata": {},
     "output_type": "display_data"
    }
   ],
   "source": [
    "# Bargraph illustrating sentiments per class\n",
    "train_ds['sentiment'].value_counts().plot(kind ='bar')\n"
   ]
  },
  {
   "cell_type": "code",
   "execution_count": 179,
   "id": "924f3039",
   "metadata": {},
   "outputs": [
    {
     "name": "stderr",
     "output_type": "stream",
     "text": [
      "C:\\Users\\anyangma\\Anaconda3\\lib\\site-packages\\seaborn\\_decorators.py:36: FutureWarning: Pass the following variable as a keyword arg: x. From version 0.12, the only valid positional argument will be `data`, and passing other arguments without an explicit keyword will result in an error or misinterpretation.\n",
      "  warnings.warn(\n"
     ]
    },
    {
     "data": {
      "image/png": "[encoded data removed]",
      "text/plain": [
       "<Figure size 576x360 with 1 Axes>"
      ]
     },
     "metadata": {},
     "output_type": "display_data"
    }
   ],
   "source": [
    "# Target variable distribution\n",
    "sns.set_style('darkgrid')\n",
    "plt.figure(figsize=(8, 5))\n",
    "sns.countplot(train[\"sentiment\"])\n",
    "plt.title('Target variable distribution')\n",
    "plt.show()"
   ]
  },
  {
   "cell_type": "markdown",
   "id": "d135ab5a",
   "metadata": {},
   "source": [
    "The target variable is not well balanced.\n",
    "Some of the techniques to handle imbalanceness include:\n",
    "- Smote\n",
    "- Oversampling\n",
    "- Undersampling ..."
   ]
  },
  {
   "cell_type": "code",
   "execution_count": 251,
   "id": "c43b50e4",
   "metadata": {},
   "outputs": [
    {
     "data": {
      "text/plain": [
       "False"
      ]
     },
     "execution_count": 251,
     "metadata": {},
     "output_type": "execute_result"
    }
   ],
   "source": [
    "# Check for missing values\n",
    "train_ds2.isnull().sum().any()# test.isnull().sum().any() "
   ]
  },
  {
   "cell_type": "markdown",
   "id": "c7e59b49",
   "metadata": {},
   "source": [
    "No missing values "
   ]
  },
  {
   "cell_type": "code",
   "execution_count": null,
   "id": "a802ed67",
   "metadata": {},
   "outputs": [],
   "source": [
    "# Check for duplicates\n",
    "train.duplicated().any(), test.duplicated().any()"
   ]
  },
  {
   "cell_type": "markdown",
   "id": "959b330c",
   "metadata": {},
   "source": [
    "No duplicated values "
   ]
  },
  {
   "cell_type": "markdown",
   "id": "fadfe5c8",
   "metadata": {},
   "source": [
    "<a id=\"four\"></a>\n",
    "## 4. Data Engineering\n",
    "<a class=\"anchor\" id=\"1.1\"></a>\n",
    "<a href=#cont>Back to Table of Contents</a>"
   ]
  },
  {
   "cell_type": "markdown",
   "id": "5900994a",
   "metadata": {},
   "source": [
    "# Text Cleaning\n",
    "\n",
    "Creating array of sentiments and messages"
   ]
  },
  {
   "cell_type": "code",
   "execution_count": null,
   "id": "b21aa176",
   "metadata": {},
   "outputs": [],
   "source": [
    "train_ds2 = []\n",
    "for i, row in train_ds.iterrows():\n",
    "    for post in row['message'].split('|||'):\n",
    "        train_ds2.append([row['sentiment'], post])\n",
    "train_ds2 = pd.DataFrame(train_ds2, columns=['sentiment', 'message'])"
   ]
  },
  {
   "cell_type": "code",
   "execution_count": null,
   "id": "c349c2d1",
   "metadata": {},
   "outputs": [],
   "source": [
    "train_ds2.shape   # Getting the total rows and columns"
   ]
  },
  {
   "cell_type": "markdown",
   "id": "29f7b3fc",
   "metadata": {},
   "source": [
    "Bargraph showing class distribution"
   ]
  },
  {
   "cell_type": "code",
   "execution_count": 181,
   "id": "b51b2e3f",
   "metadata": {},
   "outputs": [
    {
     "data": {
      "image/png": "[encoded data removed]",
      "text/plain": [
       "<Figure size 432x288 with 1 Axes>"
      ]
     },
     "metadata": {},
     "output_type": "display_data"
    }
   ],
   "source": [
    "train_ds2['sentiment'].value_counts().plot(kind = 'bar')\n",
    "plt.show()"
   ]
  },
  {
   "cell_type": "markdown",
   "id": "5e506756",
   "metadata": {},
   "source": [
    "Regular Expressions\n",
    "\n",
    "Removing web-urls and repalcing with keyword url-web"
   ]
  },
  {
   "cell_type": "code",
   "execution_count": 182,
   "id": "5557d719",
   "metadata": {},
   "outputs": [],
   "source": [
    "pattern_url = r'http[s]?://(?:[A-Za-z]|[0-9]|[$-_@.&+]|[!*\\(\\),]|(?:%[0-9A-Fa-f][0-9A-Fa-f]))+'\n",
    "subs_url = ''\n",
    "train_ds2['message'] = train_ds2['message'].replace(to_replace = pattern_url, value = 0, regex = True)"
   ]
  },
  {
   "cell_type": "code",
   "execution_count": 230,
   "id": "52a39cbc",
   "metadata": {},
   "outputs": [],
   "source": [
    "#reg_ex = re.sub(r'rt[\\s]+',\"\")  \n",
    "train_ds2['message'] = train_ds2['message'].apply(lambda x: re.sub(r'rt[\\s]+', '', x)) # x individual"
   ]
  },
  {
   "cell_type": "code",
   "execution_count": 231,
   "id": "4d942eb5",
   "metadata": {},
   "outputs": [
    {
     "data": {
      "text/html": [
       "<div>\n",
       "<style scoped>\n",
       "    .dataframe tbody tr th:only-of-type {\n",
       "        vertical-align: middle;\n",
       "    }\n",
       "\n",
       "    .dataframe tbody tr th {\n",
       "        vertical-align: top;\n",
       "    }\n",
       "\n",
       "    .dataframe thead th {\n",
       "        text-align: right;\n",
       "    }\n",
       "</style>\n",
       "<table border=\"1\" class=\"dataframe\">\n",
       "  <thead>\n",
       "    <tr style=\"text-align: right;\">\n",
       "      <th></th>\n",
       "      <th>sentiment</th>\n",
       "      <th>message</th>\n",
       "      <th>tokens</th>\n",
       "      <th>stem</th>\n",
       "      <th>lemma</th>\n",
       "    </tr>\n",
       "  </thead>\n",
       "  <tbody>\n",
       "    <tr>\n",
       "      <th>15817</th>\n",
       "      <td>0</td>\n",
       "      <td>notiven nytimesworld what does trump actually ...</td>\n",
       "      <td>[notiven, rt, nytimesworld, what, does, trump,...</td>\n",
       "      <td>[notiven, rt, nytimesworld, trump, actually, b...</td>\n",
       "      <td>[notiven, rt, nytimesworld, what, doe, trump, ...</td>\n",
       "    </tr>\n",
       "    <tr>\n",
       "      <th>15818</th>\n",
       "      <td>-1</td>\n",
       "      <td>sara8smiles hey liberals the climate change cr...</td>\n",
       "      <td>[rt, sara8smiles, hey, liberals, the, climate,...</td>\n",
       "      <td>[rt, sara8smiles, hey, liberals, climate, chan...</td>\n",
       "      <td>[rt, sara8smiles, hey, liberal, the, climate, ...</td>\n",
       "    </tr>\n",
       "    <tr>\n",
       "      <th>15819</th>\n",
       "      <td>0</td>\n",
       "      <td>chetcannon kurteichenwalds climate change equa...</td>\n",
       "      <td>[rt, chetcannon, kurteichenwalds, climate, cha...</td>\n",
       "      <td>[rt, chetcannon, kurteichenwalds, climate, cha...</td>\n",
       "      <td>[rt, chetcannon, kurteichenwalds, climate, cha...</td>\n",
       "    </tr>\n",
       "  </tbody>\n",
       "</table>\n",
       "</div>"
      ],
      "text/plain": [
       "       sentiment                                            message  \\\n",
       "15817          0  notiven nytimesworld what does trump actually ...   \n",
       "15818         -1  sara8smiles hey liberals the climate change cr...   \n",
       "15819          0  chetcannon kurteichenwalds climate change equa...   \n",
       "\n",
       "                                                  tokens  \\\n",
       "15817  [notiven, rt, nytimesworld, what, does, trump,...   \n",
       "15818  [rt, sara8smiles, hey, liberals, the, climate,...   \n",
       "15819  [rt, chetcannon, kurteichenwalds, climate, cha...   \n",
       "\n",
       "                                                    stem  \\\n",
       "15817  [notiven, rt, nytimesworld, trump, actually, b...   \n",
       "15818  [rt, sara8smiles, hey, liberals, climate, chan...   \n",
       "15819  [rt, chetcannon, kurteichenwalds, climate, cha...   \n",
       "\n",
       "                                                   lemma  \n",
       "15817  [notiven, rt, nytimesworld, what, doe, trump, ...  \n",
       "15818  [rt, sara8smiles, hey, liberal, the, climate, ...  \n",
       "15819  [rt, chetcannon, kurteichenwalds, climate, cha...  "
      ]
     },
     "execution_count": 231,
     "metadata": {},
     "output_type": "execute_result"
    }
   ],
   "source": [
    "train_ds2.tail(3)"
   ]
  },
  {
   "cell_type": "code",
   "execution_count": 184,
   "id": "0ff7c71d",
   "metadata": {},
   "outputs": [],
   "source": [
    "# Convert all text to lower case\n",
    "train_ds2['message'] = train_ds2['message'].str.lower()"
   ]
  },
  {
   "cell_type": "markdown",
   "id": "d88a3e46",
   "metadata": {},
   "source": [
    "Remove punctuation marks using the string class"
   ]
  },
  {
   "cell_type": "code",
   "execution_count": 185,
   "id": "8b228678",
   "metadata": {},
   "outputs": [
    {
     "name": "stdout",
     "output_type": "stream",
     "text": [
      "!\"#$%&'()*+,-./:;<=>?@[\\]^_`{|}~\n"
     ]
    }
   ],
   "source": [
    "import string\n",
    "print(string.punctuation)"
   ]
  },
  {
   "cell_type": "code",
   "execution_count": 186,
   "id": "1cd0a436",
   "metadata": {},
   "outputs": [],
   "source": [
    "def remove_punctuation(message):\n",
    "    return ''.join([l for l in message if l not in string.punctuation])"
   ]
  },
  {
   "cell_type": "code",
   "execution_count": 187,
   "id": "3ac772e4",
   "metadata": {},
   "outputs": [
    {
     "data": {
      "text/plain": [
       "'rt chetcannon kurteichenwalds climate change equation in 4 screenshots urlweb'"
      ]
     },
     "execution_count": 187,
     "metadata": {},
     "output_type": "execute_result"
    }
   ],
   "source": [
    "train_ds2['message'] = train_ds2['message'].apply(remove_punctuation)\n",
    "train_ds2['message'].iloc[15819]"
   ]
  },
  {
   "cell_type": "markdown",
   "id": "17ef91be",
   "metadata": {},
   "source": [
    "# Tokenization"
   ]
  },
  {
   "cell_type": "code",
   "execution_count": 188,
   "id": "752d41a1",
   "metadata": {},
   "outputs": [],
   "source": [
    "from nltk.tokenize import word_tokenize, TreebankWordTokenizer"
   ]
  },
  {
   "cell_type": "code",
   "execution_count": 189,
   "id": "9abe7bb9",
   "metadata": {},
   "outputs": [],
   "source": [
    "tokeniser = TreebankWordTokenizer()\n",
    "train_ds2['tokens'] = train_ds2['message'].apply(tokeniser.tokenize)"
   ]
  },
  {
   "cell_type": "code",
   "execution_count": 190,
   "id": "38221fe4",
   "metadata": {},
   "outputs": [
    {
     "data": {
      "text/plain": [
       "['rt',\n",
       " 'chetcannon',\n",
       " 'kurteichenwalds',\n",
       " 'climate',\n",
       " 'change',\n",
       " 'equation',\n",
       " 'in',\n",
       " '4',\n",
       " 'screenshots',\n",
       " 'urlweb']"
      ]
     },
     "execution_count": 190,
     "metadata": {},
     "output_type": "execute_result"
    }
   ],
   "source": [
    "train_ds2['tokens'].iloc[15819]"
   ]
  },
  {
   "cell_type": "markdown",
   "id": "bb8c2d93",
   "metadata": {},
   "source": [
    "# Stemming"
   ]
  },
  {
   "cell_type": "code",
   "execution_count": 191,
   "id": "13f3b74f",
   "metadata": {},
   "outputs": [],
   "source": [
    "from nltk import SnowballStemmer, PorterStemmer, LancasterStemmer"
   ]
  },
  {
   "cell_type": "code",
   "execution_count": 192,
   "id": "0b34544f",
   "metadata": {},
   "outputs": [],
   "source": [
    "def mbti_stemmer(words, stemmer):\n",
    "    return [stemmer.stem(word) for word in words]"
   ]
  },
  {
   "cell_type": "code",
   "execution_count": 193,
   "id": "4ff2f5f8",
   "metadata": {},
   "outputs": [],
   "source": [
    "stemmer = SnowballStemmer('english')\n"
   ]
  },
  {
   "cell_type": "code",
   "execution_count": 194,
   "id": "d9a9f290",
   "metadata": {},
   "outputs": [],
   "source": [
    "train_ds2['stem'] = train_ds2['tokens'].apply(mbti_stemmer, args=(stemmer, ))"
   ]
  },
  {
   "cell_type": "code",
   "execution_count": 195,
   "id": "e84aa126",
   "metadata": {},
   "outputs": [
    {
     "name": "stdout",
     "output_type": "stream",
     "text": [
      "rt                   --> rt        \n",
      "chetcannon           --> chetcannon\n",
      "kurteichenwalds      --> kurteichenwald\n",
      "climate              --> climat    \n",
      "change               --> chang     \n",
      "equation             --> equat     \n",
      "in                   --> in        \n",
      "4                    --> 4         \n",
      "screenshots          --> screenshot\n",
      "urlweb               --> urlweb    \n"
     ]
    }
   ],
   "source": [
    "for i, t in enumerate(train_ds2.iloc[15819]['tokens']):    \n",
    "    print ('{:20s} --> {:10s}'.format(t, train_ds2.iloc[15819]['stem'][i]))"
   ]
  },
  {
   "cell_type": "markdown",
   "id": "ea8d6323",
   "metadata": {},
   "source": [
    "# Lemmatization"
   ]
  },
  {
   "cell_type": "code",
   "execution_count": 196,
   "id": "141f0ea3",
   "metadata": {},
   "outputs": [],
   "source": [
    "from nltk.stem import WordNetLemmatizer\n",
    "#nltk.download('wordnet')\n",
    "\n",
    "lemmatizer = WordNetLemmatizer()"
   ]
  },
  {
   "cell_type": "code",
   "execution_count": 197,
   "id": "62f6c276",
   "metadata": {},
   "outputs": [],
   "source": [
    "def mbti_lemma(words, lemmatizer):\n",
    "    return [lemmatizer.lemmatize(word) for word in words] "
   ]
  },
  {
   "cell_type": "code",
   "execution_count": 198,
   "id": "3b8a7813",
   "metadata": {},
   "outputs": [],
   "source": [
    "train_ds2['lemma'] = train_ds2['tokens'].apply(mbti_lemma, args=(lemmatizer, ))"
   ]
  },
  {
   "cell_type": "code",
   "execution_count": 199,
   "id": "2cb29a5a",
   "metadata": {},
   "outputs": [
    {
     "name": "stdout",
     "output_type": "stream",
     "text": [
      "rt                   --> rt        \n",
      "chetcannon           --> chetcannon\n",
      "kurteichenwalds      --> kurteichenwalds\n",
      "climate              --> climate   \n",
      "change               --> change    \n",
      "equation             --> equation  \n",
      "in                   --> in        \n",
      "4                    --> 4         \n",
      "screenshots          --> screenshots\n",
      "urlweb               --> urlweb    \n"
     ]
    }
   ],
   "source": [
    "for i, t in enumerate(train_ds2.iloc[15819]['tokens']):    \n",
    "    print ('{:20s} --> {:10s}'.format(t, train_ds2.iloc[15819]['lemma'][i]))"
   ]
  },
  {
   "cell_type": "markdown",
   "id": "0405cab4",
   "metadata": {},
   "source": [
    "# Stop Words"
   ]
  },
  {
   "cell_type": "code",
   "execution_count": 200,
   "id": "b3727a0e",
   "metadata": {},
   "outputs": [],
   "source": [
    "from nltk.corpus import stopwords"
   ]
  },
  {
   "cell_type": "code",
   "execution_count": 201,
   "id": "c34e717b",
   "metadata": {},
   "outputs": [],
   "source": [
    "def remove_stop_words(tokens):    \n",
    "    return [t for t in tokens if t not in stopwords.words('english')]"
   ]
  },
  {
   "cell_type": "code",
   "execution_count": 202,
   "id": "4768f10c",
   "metadata": {},
   "outputs": [],
   "source": [
    "train_ds2['stem'] = train_ds2['tokens'].apply(remove_stop_words)"
   ]
  },
  {
   "cell_type": "code",
   "execution_count": 203,
   "id": "c8d3e9df",
   "metadata": {},
   "outputs": [],
   "source": [
    "# train ---- Need to confirm"
   ]
  },
  {
   "cell_type": "markdown",
   "id": "8b99bd6c",
   "metadata": {},
   "source": [
    "# Transforming text to numbers"
   ]
  },
  {
   "cell_type": "code",
   "execution_count": 204,
   "id": "cf9b04d9",
   "metadata": {},
   "outputs": [],
   "source": [
    "from sklearn.feature_extraction.text import CountVectorizer"
   ]
  },
  {
   "cell_type": "code",
   "execution_count": 205,
   "id": "a9836404",
   "metadata": {},
   "outputs": [
    {
     "data": {
      "text/html": [
       "<div>\n",
       "<style scoped>\n",
       "    .dataframe tbody tr th:only-of-type {\n",
       "        vertical-align: middle;\n",
       "    }\n",
       "\n",
       "    .dataframe tbody tr th {\n",
       "        vertical-align: top;\n",
       "    }\n",
       "\n",
       "    .dataframe thead th {\n",
       "        text-align: right;\n",
       "    }\n",
       "</style>\n",
       "<table border=\"1\" class=\"dataframe\">\n",
       "  <thead>\n",
       "    <tr style=\"text-align: right;\">\n",
       "      <th></th>\n",
       "      <th>sentiment</th>\n",
       "      <th>message</th>\n",
       "      <th>tokens</th>\n",
       "      <th>stem</th>\n",
       "      <th>lemma</th>\n",
       "    </tr>\n",
       "  </thead>\n",
       "  <tbody>\n",
       "    <tr>\n",
       "      <th>0</th>\n",
       "      <td>1</td>\n",
       "      <td>polyscimajor epa chief doesnt think carbon dio...</td>\n",
       "      <td>[polyscimajor, epa, chief, doesnt, think, carb...</td>\n",
       "      <td>[polyscimajor, epa, chief, doesnt, think, carb...</td>\n",
       "      <td>[polyscimajor, epa, chief, doesnt, think, carb...</td>\n",
       "    </tr>\n",
       "    <tr>\n",
       "      <th>1</th>\n",
       "      <td>1</td>\n",
       "      <td>its not like we lack evidence of anthropogenic...</td>\n",
       "      <td>[its, not, like, we, lack, evidence, of, anthr...</td>\n",
       "      <td>[like, lack, evidence, anthropogenic, global, ...</td>\n",
       "      <td>[it, not, like, we, lack, evidence, of, anthro...</td>\n",
       "    </tr>\n",
       "    <tr>\n",
       "      <th>2</th>\n",
       "      <td>2</td>\n",
       "      <td>rt rawstory researchers say we have three year...</td>\n",
       "      <td>[rt, rawstory, researchers, say, we, have, thr...</td>\n",
       "      <td>[rt, rawstory, researchers, say, three, years,...</td>\n",
       "      <td>[rt, rawstory, researcher, say, we, have, thre...</td>\n",
       "    </tr>\n",
       "    <tr>\n",
       "      <th>3</th>\n",
       "      <td>1</td>\n",
       "      <td>todayinmaker wired  2016 was a pivotal year in...</td>\n",
       "      <td>[todayinmaker, wired, 2016, was, a, pivotal, y...</td>\n",
       "      <td>[todayinmaker, wired, 2016, pivotal, year, war...</td>\n",
       "      <td>[todayinmaker, wired, 2016, wa, a, pivotal, ye...</td>\n",
       "    </tr>\n",
       "    <tr>\n",
       "      <th>4</th>\n",
       "      <td>1</td>\n",
       "      <td>rt soynoviodetodas its 2016 and a racist sexis...</td>\n",
       "      <td>[rt, soynoviodetodas, its, 2016, and, a, racis...</td>\n",
       "      <td>[rt, soynoviodetodas, 2016, racist, sexist, cl...</td>\n",
       "      <td>[rt, soynoviodetodas, it, 2016, and, a, racist...</td>\n",
       "    </tr>\n",
       "  </tbody>\n",
       "</table>\n",
       "</div>"
      ],
      "text/plain": [
       "   sentiment                                            message  \\\n",
       "0          1  polyscimajor epa chief doesnt think carbon dio...   \n",
       "1          1  its not like we lack evidence of anthropogenic...   \n",
       "2          2  rt rawstory researchers say we have three year...   \n",
       "3          1  todayinmaker wired  2016 was a pivotal year in...   \n",
       "4          1  rt soynoviodetodas its 2016 and a racist sexis...   \n",
       "\n",
       "                                              tokens  \\\n",
       "0  [polyscimajor, epa, chief, doesnt, think, carb...   \n",
       "1  [its, not, like, we, lack, evidence, of, anthr...   \n",
       "2  [rt, rawstory, researchers, say, we, have, thr...   \n",
       "3  [todayinmaker, wired, 2016, was, a, pivotal, y...   \n",
       "4  [rt, soynoviodetodas, its, 2016, and, a, racis...   \n",
       "\n",
       "                                                stem  \\\n",
       "0  [polyscimajor, epa, chief, doesnt, think, carb...   \n",
       "1  [like, lack, evidence, anthropogenic, global, ...   \n",
       "2  [rt, rawstory, researchers, say, three, years,...   \n",
       "3  [todayinmaker, wired, 2016, pivotal, year, war...   \n",
       "4  [rt, soynoviodetodas, 2016, racist, sexist, cl...   \n",
       "\n",
       "                                               lemma  \n",
       "0  [polyscimajor, epa, chief, doesnt, think, carb...  \n",
       "1  [it, not, like, we, lack, evidence, of, anthro...  \n",
       "2  [rt, rawstory, researcher, say, we, have, thre...  \n",
       "3  [todayinmaker, wired, 2016, wa, a, pivotal, ye...  \n",
       "4  [rt, soynoviodetodas, it, 2016, and, a, racist...  "
      ]
     },
     "execution_count": 205,
     "metadata": {},
     "output_type": "execute_result"
    }
   ],
   "source": [
    "train_ds2.head()"
   ]
  },
  {
   "cell_type": "code",
   "execution_count": 152,
   "id": "5dd28a6f",
   "metadata": {},
   "outputs": [],
   "source": [
    "# Let's use the count vectorizer with its default hyperparameters\n",
    "vect = CountVectorizer()\n",
    "X_count = vect.fit_transform(train_ds2['message'].values.astype(str))"
   ]
  },
  {
   "cell_type": "code",
   "execution_count": 153,
   "id": "4c5b9ad4",
   "metadata": {},
   "outputs": [
    {
     "data": {
      "text/plain": [
       "(15820, 24819)"
      ]
     },
     "execution_count": 153,
     "metadata": {},
     "output_type": "execute_result"
    }
   ],
   "source": [
    "X_count.shape"
   ]
  },
  {
   "cell_type": "code",
   "execution_count": 154,
   "id": "2554056f",
   "metadata": {},
   "outputs": [],
   "source": [
    "vect_20 = CountVectorizer(max_features=20)\n",
    "X_count = vect_20.fit_transform(train_ds2['message'].values.astype(str))"
   ]
  },
  {
   "cell_type": "code",
   "execution_count": 155,
   "id": "6b9fde4d",
   "metadata": {},
   "outputs": [
    {
     "data": {
      "text/plain": [
       "(15820, 20)"
      ]
     },
     "execution_count": 155,
     "metadata": {},
     "output_type": "execute_result"
    }
   ],
   "source": [
    "# Get shape of our new predictive variables\n",
    "X_count.shape"
   ]
  },
  {
   "cell_type": "code",
   "execution_count": 156,
   "id": "317b36e5",
   "metadata": {},
   "outputs": [
    {
     "name": "stderr",
     "output_type": "stream",
     "text": [
      "C:\\Users\\anyangma\\Anaconda3\\lib\\site-packages\\sklearn\\utils\\deprecation.py:87: FutureWarning: Function get_feature_names is deprecated; get_feature_names is deprecated in 1.0 and will be removed in 1.2. Please use get_feature_names_out instead.\n",
      "  warnings.warn(msg, category=FutureWarning)\n"
     ]
    },
    {
     "data": {
      "text/plain": [
       "['about',\n",
       " 'and',\n",
       " 'are',\n",
       " 'change',\n",
       " 'climate',\n",
       " 'for',\n",
       " 'global',\n",
       " 'in',\n",
       " 'is',\n",
       " 'of',\n",
       " 'on',\n",
       " 'rt',\n",
       " 'that',\n",
       " 'the',\n",
       " 'to',\n",
       " 'trump',\n",
       " 'urlweb',\n",
       " 'warming',\n",
       " 'we',\n",
       " 'you']"
      ]
     },
     "execution_count": 156,
     "metadata": {},
     "output_type": "execute_result"
    }
   ],
   "source": [
    "# Uncomment and run this line to see feature names\n",
    "vect_20.get_feature_names()"
   ]
  },
  {
   "cell_type": "code",
   "execution_count": 220,
   "id": "9ea7de2a",
   "metadata": {},
   "outputs": [],
   "source": [
    "X = X_count.toarray()"
   ]
  },
  {
   "cell_type": "code",
   "execution_count": 221,
   "id": "e6ec3ea7",
   "metadata": {},
   "outputs": [],
   "source": [
    "#X.reshape(-1,1)"
   ]
  },
  {
   "cell_type": "code",
   "execution_count": 222,
   "id": "44fbd6bd",
   "metadata": {},
   "outputs": [],
   "source": [
    "y = train_ds2['sentiment']"
   ]
  },
  {
   "cell_type": "code",
   "execution_count": 233,
   "id": "7c7a5240",
   "metadata": {},
   "outputs": [
    {
     "name": "stdout",
     "output_type": "stream",
     "text": [
      "Collecting imblearnNote: you may need to restart the kernel to use updated packages.\n",
      "\n",
      "  Downloading imblearn-0.0-py2.py3-none-any.whl (1.9 kB)\n",
      "Collecting imbalanced-learn\n",
      "  Downloading imbalanced_learn-0.9.0-py3-none-any.whl (199 kB)\n",
      "Requirement already satisfied: scipy>=1.1.0 in c:\\users\\anyangma\\anaconda3\\lib\\site-packages (from imbalanced-learn->imblearn) (1.6.2)\n",
      "Requirement already satisfied: numpy>=1.14.6 in c:\\users\\anyangma\\anaconda3\\lib\\site-packages (from imbalanced-learn->imblearn) (1.22.3)\n",
      "Requirement already satisfied: threadpoolctl>=2.0.0 in c:\\users\\anyangma\\anaconda3\\lib\\site-packages (from imbalanced-learn->imblearn) (2.1.0)\n",
      "Requirement already satisfied: scikit-learn>=1.0.1 in c:\\users\\anyangma\\anaconda3\\lib\\site-packages (from imbalanced-learn->imblearn) (1.0.2)\n",
      "Requirement already satisfied: joblib>=0.11 in c:\\users\\anyangma\\anaconda3\\lib\\site-packages (from imbalanced-learn->imblearn) (1.0.1)\n",
      "Installing collected packages: imbalanced-learn, imblearn\n",
      "Successfully installed imbalanced-learn-0.9.0 imblearn-0.0\n"
     ]
    }
   ],
   "source": [
    "pip install imblearn"
   ]
  },
  {
   "cell_type": "code",
   "execution_count": 236,
   "id": "aef5daff",
   "metadata": {},
   "outputs": [],
   "source": [
    "from imblearn.over_sampling import SMOTE"
   ]
  },
  {
   "cell_type": "code",
   "execution_count": 237,
   "id": "a334f759",
   "metadata": {},
   "outputs": [],
   "source": [
    "# transform the dataset\n",
    "oversample = SMOTE(random_state = 42)\n",
    "X_res, y_res = oversample.fit_resample(X, y)"
   ]
  },
  {
   "cell_type": "markdown",
   "id": "1c4bb806",
   "metadata": {},
   "source": [
    "<a id=\"five\"></a>\n",
    "## 5. Modelling\n",
    "<a class=\"anchor\" id=\"1.1\"></a>\n",
    "<a href=#cont>Back to Table of Contents</a>"
   ]
  },
  {
   "cell_type": "code",
   "execution_count": 224,
   "id": "66a748da",
   "metadata": {},
   "outputs": [],
   "source": [
    "from sklearn.model_selection import train_test_split\n",
    "from sklearn.linear_model import LogisticRegression"
   ]
  },
  {
   "cell_type": "code",
   "execution_count": 238,
   "id": "8ebbaf22",
   "metadata": {},
   "outputs": [],
   "source": [
    "X_train, X_test, y_train, y_test = train_test_split(X_res, y_res, test_size=0.2, random_state=27)"
   ]
  },
  {
   "cell_type": "code",
   "execution_count": 239,
   "id": "34c49232",
   "metadata": {},
   "outputs": [
    {
     "data": {
      "text/plain": [
       "(15820, 20)"
      ]
     },
     "execution_count": 239,
     "metadata": {},
     "output_type": "execute_result"
    }
   ],
   "source": [
    "X.shape"
   ]
  },
  {
   "cell_type": "code",
   "execution_count": 240,
   "id": "0ca44fd3",
   "metadata": {},
   "outputs": [],
   "source": [
    "#X.reshape(-1,1)"
   ]
  },
  {
   "cell_type": "code",
   "execution_count": 241,
   "id": "3093ea0e",
   "metadata": {},
   "outputs": [],
   "source": [
    "# Here 'ovr' indicates that we have selected our One-vs-Rest strategy. \n",
    "logreg = LogisticRegression(multi_class='ovr')"
   ]
  },
  {
   "cell_type": "code",
   "execution_count": 242,
   "id": "89de8d9f",
   "metadata": {},
   "outputs": [
    {
     "data": {
      "text/plain": [
       "LogisticRegression(multi_class='ovr')"
      ]
     },
     "execution_count": 242,
     "metadata": {},
     "output_type": "execute_result"
    }
   ],
   "source": [
    "logreg.fit(X_train, y_train)"
   ]
  },
  {
   "cell_type": "markdown",
   "id": "78f2a6c9",
   "metadata": {},
   "source": [
    "<a id=\"six\"></a>\n",
    "## 6. Model Performance\n",
    "<a class=\"anchor\" id=\"1.1\"></a>\n",
    "<a href=#cont>Back to Table of Contents</a>"
   ]
  },
  {
   "cell_type": "code",
   "execution_count": 247,
   "id": "a75a549d",
   "metadata": {},
   "outputs": [],
   "source": [
    "# Generate predictions\n",
    "y_pred_test = logreg.predict(X_test)"
   ]
  },
  {
   "cell_type": "code",
   "execution_count": 248,
   "id": "9da80423",
   "metadata": {},
   "outputs": [],
   "source": [
    "# print(f'{classification_report(y_test, y_pred)}')"
   ]
  },
  {
   "cell_type": "code",
   "execution_count": 249,
   "id": "aae28ed4",
   "metadata": {},
   "outputs": [
    {
     "name": "stdout",
     "output_type": "stream",
     "text": [
      "              precision    recall  f1-score   support\n",
      "\n",
      "          -1       0.49      0.40      0.44      1671\n",
      "           0       0.48      0.44      0.46      1667\n",
      "           1       0.52      0.49      0.50      1698\n",
      "           2       0.59      0.76      0.66      1788\n",
      "\n",
      "    accuracy                           0.53      6824\n",
      "   macro avg       0.52      0.52      0.52      6824\n",
      "weighted avg       0.52      0.53      0.52      6824\n",
      "\n"
     ]
    }
   ],
   "source": [
    "# Classification report\n",
    "from sklearn.metrics import classification_report\n",
    "#print(classification_report(y_test, y_pred_test, target_names=type_labels))\n",
    "print(f'{classification_report(y_test, y_pred_test)}')\n",
    "\n",
    "import warnings\n",
    "warnings.filterwarnings('ignore')"
   ]
  },
  {
   "cell_type": "markdown",
   "id": "cee78308",
   "metadata": {},
   "source": [
    "<a id=\"seven\"></a>\n",
    "## 7. Model Explanations\n",
    "<a class=\"anchor\" id=\"1.1\"></a>\n",
    "<a href=#cont>Back to Table of Contents</a>"
   ]
  },
  {
   "cell_type": "code",
   "execution_count": null,
   "id": "05f40a6f",
   "metadata": {},
   "outputs": [],
   "source": []
  }
 ],
 "metadata": {
  "kernelspec": {
   "display_name": "Python 3",
   "language": "python",
   "name": "python3"
  },
  "language_info": {
   "codemirror_mode": {
    "name": "ipython",
    "version": 3
   },
   "file_extension": ".py",
   "mimetype": "text/x-python",
   "name": "python",
   "nbconvert_exporter": "python",
   "pygments_lexer": "ipython3",
   "version": "3.8.8"
  }
 },
 "nbformat": 4,
 "nbformat_minor": 5
}
